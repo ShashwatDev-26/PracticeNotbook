{
 "cells": [
  {
   "cell_type": "markdown",
   "id": "238ebd57",
   "metadata": {},
   "source": [
    "***\n",
    "# Basic Assisments\n",
    "***"
   ]
  },
  {
   "cell_type": "markdown",
   "id": "a4f37802",
   "metadata": {},
   "source": [
    "##  Write a Python function to check if a number is even"
   ]
  },
  {
   "cell_type": "code",
   "execution_count": null,
   "id": "8a71c04f",
   "metadata": {},
   "outputs": [
    {
     "data": {
      "text/plain": [
       "False"
      ]
     },
     "execution_count": 4,
     "metadata": {},
     "output_type": "execute_result"
    }
   ],
   "source": []
  },
  {
   "cell_type": "markdown",
   "id": "727ac371",
   "metadata": {},
   "source": [
    "##  Write a Python function to find the factorial of a number."
   ]
  },
  {
   "cell_type": "code",
   "execution_count": null,
   "id": "6db5ae39",
   "metadata": {},
   "outputs": [
    {
     "name": "stdout",
     "output_type": "stream",
     "text": [
      "11  is a prime number \n"
     ]
    }
   ],
   "source": []
  },
  {
   "cell_type": "markdown",
   "id": "2658b5f0",
   "metadata": {},
   "source": [
    "##  Write a Python function to check if a string is a palindrome."
   ]
  },
  {
   "cell_type": "code",
   "execution_count": null,
   "id": "6b9f5b4b",
   "metadata": {},
   "outputs": [
    {
     "data": {
      "text/plain": [
       "'it is palindrom'"
      ]
     },
     "execution_count": 7,
     "metadata": {},
     "output_type": "execute_result"
    }
   ],
   "source": []
  },
  {
   "cell_type": "markdown",
   "id": "2f8e17c4",
   "metadata": {},
   "source": [
    "## Write a Python function to return the Fibonacci series up to n terms."
   ]
  },
  {
   "cell_type": "code",
   "execution_count": null,
   "id": "aee920f9",
   "metadata": {},
   "outputs": [],
   "source": []
  },
  {
   "cell_type": "markdown",
   "id": "9ded88f9",
   "metadata": {},
   "source": [
    "##  Write a Python function to find the HCF\n",
    "***"
   ]
  },
  {
   "cell_type": "markdown",
   "id": "0cd989f2",
   "metadata": {},
   "source": [
    "###\n",
    "✅ **Yes, that is an excellent and accurate analogy** for understanding how **HCF works!**\n",
    "Let me rephrase and expand it slightly to reinforce the concept:\n",
    "\n",
    "---\n",
    "\n",
    "### 🎯 Real-World Analogy Using HCF:\n",
    "\n",
    "**You have:**\n",
    "\n",
    "* 8 red balls\n",
    "* 12 green balls\n",
    "\n",
    "You want to:\n",
    "\n",
    "* **Pack them into identical boxes** such that:\n",
    "\n",
    "  * Each box has **the same number of red and green balls**\n",
    "  * No balls are left over\n",
    "\n",
    "---\n",
    "\n",
    "### 🔍 Step-by-Step Thinking:\n",
    "\n",
    "1. **Find the HCF of 8 and 12**\n",
    "\n",
    "   * HCF(8, 12) = **4**\n",
    "\n",
    "2. **What does that mean?**\n",
    "   You can make **4 identical boxes**.\n",
    "\n",
    "3. **Distribute balls equally:**\n",
    "\n",
    "   * Red balls per box = 8 ÷ 4 = **2**\n",
    "   * Green balls per box = 12 ÷ 4 = **3**\n",
    "\n",
    "---\n",
    "\n",
    "### ✅ Final Conclusion:\n",
    "\n",
    "You can pack **2 red balls and 3 green balls per box**, and:\n",
    "\n",
    "* You’ll have **4 such boxes**\n",
    "* **No balls are left over**\n",
    "\n",
    "---\n",
    "\n",
    "### 📦 Why this analogy is useful:\n",
    "\n",
    "* It shows **grouping or distributing** things evenly.\n",
    "* Helps in understanding how HCF finds the **largest group size** that divides quantities **exactly and equally**.\n",
    "\n",
    "---\n",
    "\n",
    "Let me know if you'd like more such analogies (e.g., ropes, chocolates, scheduling events, etc.)!\n"
   ]
  },
  {
   "cell_type": "code",
   "execution_count": null,
   "id": "8b048f09",
   "metadata": {},
   "outputs": [
    {
     "data": {
      "text/plain": [
       "1"
      ]
     },
     "execution_count": 8,
     "metadata": {},
     "output_type": "execute_result"
    }
   ],
   "source": []
  },
  {
   "cell_type": "code",
   "execution_count": null,
   "id": "7346bf32",
   "metadata": {},
   "outputs": [
    {
     "data": {
      "text/plain": [
       "20.0"
      ]
     },
     "execution_count": 9,
     "metadata": {},
     "output_type": "execute_result"
    }
   ],
   "source": []
  },
  {
   "cell_type": "markdown",
   "id": "f8ddde7f",
   "metadata": {},
   "source": [
    "***\n",
    "# Intermediate Assisments\n",
    "***"
   ]
  },
  {
   "cell_type": "markdown",
   "id": "af594a33",
   "metadata": {},
   "source": [
    "## Last Nth highest Number"
   ]
  },
  {
   "cell_type": "code",
   "execution_count": null,
   "id": "ee7c7760",
   "metadata": {},
   "outputs": [
    {
     "name": "stdout",
     "output_type": "stream",
     "text": [
      "Real   >> [12, 3, 22, 3, 5, 3, 6, 12, 8]\n",
      "sorted >> [22, 12, 12, 8, 6, 5, 3, 3, 3]\n",
      "       >> 5th\n"
     ]
    },
    {
     "data": {
      "text/plain": [
       "6"
      ]
     },
     "execution_count": 22,
     "metadata": {},
     "output_type": "execute_result"
    }
   ],
   "source": [
    "\n"
   ]
  },
  {
   "cell_type": "markdown",
   "id": "0f7e59f9",
   "metadata": {},
   "source": [
    "## Check palindrom for string and numbers"
   ]
  },
  {
   "cell_type": "code",
   "execution_count": null,
   "id": "eb615b42",
   "metadata": {},
   "outputs": [],
   "source": []
  },
  {
   "cell_type": "markdown",
   "id": "590ab606",
   "metadata": {},
   "source": [
    "## find N perfect square list of numbers"
   ]
  },
  {
   "cell_type": "code",
   "execution_count": null,
   "id": "5942c99b",
   "metadata": {},
   "outputs": [
    {
     "name": "stdout",
     "output_type": "stream",
     "text": [
      "list of perfect Square form 1 to 100\n"
     ]
    },
    {
     "data": {
      "text/plain": [
       "[1, 4, 9, 16, 25, 36, 49, 64, 81]"
      ]
     },
     "execution_count": 45,
     "metadata": {},
     "output_type": "execute_result"
    }
   ],
   "source": []
  },
  {
   "cell_type": "markdown",
   "id": "4d6b16ae",
   "metadata": {},
   "source": [
    "## Now create a palindrom string or number"
   ]
  },
  {
   "cell_type": "markdown",
   "id": "43a144b3",
   "metadata": {},
   "source": [
    "## Reverse the numbers"
   ]
  },
  {
   "cell_type": "code",
   "execution_count": null,
   "id": "25acc057",
   "metadata": {},
   "outputs": [],
   "source": []
  },
  {
   "cell_type": "markdown",
   "id": "a381297c",
   "metadata": {},
   "source": [
    "## print N sliding window on given M range also print the reminder if any\n",
    "- formula (start * size to start * size + size)"
   ]
  },
  {
   "cell_type": "code",
   "execution_count": null,
   "id": "8c95cca3",
   "metadata": {},
   "outputs": [
    {
     "name": "stdout",
     "output_type": "stream",
     "text": [
      "To 0 from 10\n",
      "[1, 2, 3, 4, 5, 6, 7, 8, 9, 10]\n",
      "To 10 from 20\n",
      "[11, 12, 13, 14, 15, 16, 17, 18, 19, 20]\n",
      "To 20 from 30\n",
      "[21, 22, 23, 24, 25, 26, 27, 28, 29, 30]\n",
      "To 30 from 40\n",
      "[31, 32, 33, 34, 35, 36, 37, 38, 39, 40]\n",
      "To 40 from 50\n",
      "[41, 42, 43, 44, 45, 46, 47, 48, 49, 50]\n",
      "reminder 2\n",
      "[1, 2, 3, 4, 5, 6, 7, 8]\n"
     ]
    }
   ],
   "source": []
  },
  {
   "cell_type": "markdown",
   "id": "d655c37b",
   "metadata": {},
   "source": [
    "## print N sliding window with overlap of M size\n",
    "- Take care of even and odd "
   ]
  },
  {
   "cell_type": "code",
   "execution_count": null,
   "id": "05318f96",
   "metadata": {},
   "outputs": [
    {
     "name": "stdout",
     "output_type": "stream",
     "text": [
      "[1, 2, 3, 4, 5, 6, 7, 8, 9, 10, 11, 12]\n",
      "[11, 12, 13, 14, 15, 16, 17, 18, 19, 20, 21, 22]\n",
      "[21, 22, 23, 24, 25, 26, 27, 28, 29, 30, 31, 32]\n",
      "[31, 32, 33, 34, 35, 36, 37, 38, 39, 40, 41, 42]\n",
      "[41, 42, 43, 44, 45, 46, 47, 48, 49, 50]\n"
     ]
    }
   ],
   "source": []
  },
  {
   "cell_type": "markdown",
   "id": "912d9446",
   "metadata": {},
   "source": [
    "## write a code to convert to onhotEncoding or to onhotEncoding to scaler"
   ]
  },
  {
   "cell_type": "code",
   "execution_count": 1,
   "id": "df61dda2",
   "metadata": {},
   "outputs": [],
   "source": [
    "import random\n",
    "y = [random.randint(1,5) for i in range(10)]"
   ]
  },
  {
   "cell_type": "code",
   "execution_count": null,
   "id": "aac13878",
   "metadata": {},
   "outputs": [
    {
     "name": "stdout",
     "output_type": "stream",
     "text": [
      "[3, 2, 3, 5, 2, 2, 1, 2, 4, 5]\n"
     ]
    },
    {
     "data": {
      "text/plain": [
       "[[0, 0, 1, 0, 0],\n",
       " [0, 1, 0, 0, 0],\n",
       " [0, 0, 1, 0, 0],\n",
       " [0, 0, 0, 0, 1],\n",
       " [0, 1, 0, 0, 0],\n",
       " [0, 1, 0, 0, 0],\n",
       " [1, 0, 0, 0, 0],\n",
       " [0, 1, 0, 0, 0],\n",
       " [0, 0, 0, 1, 0],\n",
       " [0, 0, 0, 0, 1]]"
      ]
     },
     "execution_count": 4,
     "metadata": {},
     "output_type": "execute_result"
    }
   ],
   "source": []
  },
  {
   "cell_type": "markdown",
   "id": "510ba7ea",
   "metadata": {},
   "source": [
    "## Write a code to generate a sample dataset with numpy and print all with ramdom index batch size \n",
    "* with no repetation on index\n",
    "* use choice \n"
   ]
  },
  {
   "cell_type": "code",
   "execution_count": 10,
   "id": "b2dc061e",
   "metadata": {},
   "outputs": [],
   "source": [
    "import numpy as np\n",
    "from numpy import random\n",
    "data = random.random((50,1))*100\n"
   ]
  },
  {
   "cell_type": "markdown",
   "id": "c8f1703f",
   "metadata": {},
   "source": [
    "## Write a code to generate a sample dataset with numpy and print all with batch size \n",
    "* with repetation \n"
   ]
  },
  {
   "cell_type": "code",
   "execution_count": null,
   "id": "7205bd60",
   "metadata": {},
   "outputs": [
    {
     "name": "stdout",
     "output_type": "stream",
     "text": [
      ">>>>>>>>>>>>>>>>>>>>>>>>>>>>> for batch 1>>>>>>>>>>>>>>>>>>>>>>>>>>>>>>>>>>>>>>>>>>>.\n",
      "[14 36  5  4 28 33 38  1  1  8]\n",
      "[[76.75863604]\n",
      " [85.62097583]\n",
      " [62.20548277]\n",
      " [55.3646004 ]\n",
      " [35.62892949]\n",
      " [54.81625646]\n",
      " [30.46685078]\n",
      " [23.98808746]\n",
      " [23.98808746]\n",
      " [55.70024703]]\n",
      ">>>>>>>>>>>>>>>>>>>>>>>>>>>>> for batch 2>>>>>>>>>>>>>>>>>>>>>>>>>>>>>>>>>>>>>>>>>>>.\n",
      "[37 48 32  9 11 31 42 17  8 34]\n",
      "[[36.33394002]\n",
      " [ 9.95362592]\n",
      " [79.36766338]\n",
      " [25.91231713]\n",
      " [63.29109547]\n",
      " [40.13713404]\n",
      " [95.54638789]\n",
      " [21.19032398]\n",
      " [55.70024703]\n",
      " [68.97304437]]\n"
     ]
    }
   ],
   "source": []
  },
  {
   "cell_type": "markdown",
   "id": "73eca276",
   "metadata": {},
   "source": [
    "## Thread two task and finish according to thir time delay"
   ]
  },
  {
   "cell_type": "code",
   "execution_count": null,
   "id": "26566703",
   "metadata": {},
   "outputs": [
    {
     "name": "stdout",
     "output_type": "stream",
     "text": [
      "This is Task 5 Started now\n",
      "This is Task 2 Started now\n",
      "Task: 2 timeup\n",
      "Task: 5 timeup\n"
     ]
    }
   ],
   "source": [
    "## write your code hear\n"
   ]
  },
  {
   "cell_type": "markdown",
   "id": "50039ebd",
   "metadata": {},
   "source": [
    "## reach out nearest gas station \n",
    "* refule list have Gas station marked from your stating point \n",
    "* distance list current moved distance  \n",
    "* dselect is a copy of list to decide the sortest gas station mark with index number \n"
   ]
  },
  {
   "cell_type": "code",
   "execution_count": 35,
   "id": "4af6792e",
   "metadata": {},
   "outputs": [],
   "source": [
    "refule     = [10,20,30,40,50]\n",
    "distance   = [8,15,29,40,50]\n",
    "dselect     = distance.copy()"
   ]
  },
  {
   "cell_type": "code",
   "execution_count": 36,
   "id": "ae7f1942",
   "metadata": {},
   "outputs": [
    {
     "name": "stdout",
     "output_type": "stream",
     "text": [
      "[1, 1, 3, 4, 5]\n"
     ]
    }
   ],
   "source": [
    "for i in range(len(distance)):\n",
    "  mindist = max(refule)\n",
    "  for j in range(len(refule)):\n",
    "    if abs(distance[i]-refule[j]) < mindist:\n",
    "      mindist = abs(distance[i]-refule[j])\n",
    "      dselect[i] = j+1\n",
    "print(dselect)\n",
    "\n"
   ]
  },
  {
   "cell_type": "code",
   "execution_count": null,
   "id": "6a4e890f",
   "metadata": {},
   "outputs": [],
   "source": []
  }
 ],
 "metadata": {
  "kernelspec": {
   "display_name": "base",
   "language": "python",
   "name": "python3"
  },
  "language_info": {
   "codemirror_mode": {
    "name": "ipython",
    "version": 3
   },
   "file_extension": ".py",
   "mimetype": "text/x-python",
   "name": "python",
   "nbconvert_exporter": "python",
   "pygments_lexer": "ipython3",
   "version": "3.11.7"
  }
 },
 "nbformat": 4,
 "nbformat_minor": 5
}
