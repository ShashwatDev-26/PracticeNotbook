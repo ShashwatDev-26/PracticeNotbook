{
 "cells": [
  {
   "cell_type": "markdown",
   "id": "eca01744",
   "metadata": {},
   "source": [
    "# Data_Load"
   ]
  },
  {
   "cell_type": "code",
   "execution_count": 3,
   "id": "4da455b4",
   "metadata": {},
   "outputs": [],
   "source": [
    "import pandas as pd\n",
    "from seaborn import load_dataset\n",
    "\n",
    "original = load_dataset(\"titanic\")\n",
    "collist=['sex','age','fare','class','survived']\n",
    "Df = original[collist].copy()\n"
   ]
  },
  {
   "cell_type": "code",
   "execution_count": 6,
   "id": "e356e09d",
   "metadata": {},
   "outputs": [],
   "source": [
    "Df[\"age\"].fillna(Df[\"age\"].median,inplace=True)"
   ]
  },
  {
   "cell_type": "code",
   "execution_count": 7,
   "id": "790f0a99",
   "metadata": {},
   "outputs": [
    {
     "name": "stdout",
     "output_type": "stream",
     "text": [
      "<class 'pandas.core.frame.DataFrame'>\n",
      "RangeIndex: 891 entries, 0 to 890\n",
      "Data columns (total 5 columns):\n",
      " #   Column    Non-Null Count  Dtype   \n",
      "---  ------    --------------  -----   \n",
      " 0   sex       891 non-null    object  \n",
      " 1   age       891 non-null    object  \n",
      " 2   fare      891 non-null    object  \n",
      " 3   class     891 non-null    category\n",
      " 4   survived  891 non-null    int64   \n",
      "dtypes: category(1), int64(1), object(3)\n",
      "memory usage: 29.0+ KB\n"
     ]
    }
   ],
   "source": [
    "Df.info()"
   ]
  },
  {
   "cell_type": "code",
   "execution_count": null,
   "id": "ab7cf71e",
   "metadata": {},
   "outputs": [],
   "source": [
    "encoding = dict(zip(Df[\"sex\"].unique().tolist(),[0,1]))\n",
    "Df['sex'] = Df['sex'].map(encoding)"
   ]
  },
  {
   "cell_type": "code",
   "execution_count": 10,
   "id": "eee8c8dd",
   "metadata": {},
   "outputs": [],
   "source": [
    "\n",
    "target = \"sex\"\n",
    "Df.dropna(axis=0,inplace=True)\n",
    "ind = Df.drop(columns=target,axis=1)\n",
    "dep = Df[target]"
   ]
  },
  {
   "cell_type": "markdown",
   "id": "5aa62b90",
   "metadata": {},
   "source": [
    "***\n",
    "# Production \n",
    "***"
   ]
  },
  {
   "cell_type": "markdown",
   "id": "b81a6509",
   "metadata": {},
   "source": [
    "## Backend\n",
    "- Data is in ind and dep literals"
   ]
  },
  {
   "cell_type": "markdown",
   "id": "1dc7bcec",
   "metadata": {},
   "source": [
    "## Test and Evaluate"
   ]
  },
  {
   "cell_type": "markdown",
   "id": "08971166",
   "metadata": {},
   "source": [
    "# Front End"
   ]
  }
 ],
 "metadata": {
  "kernelspec": {
   "display_name": ".AIexpert",
   "language": "python",
   "name": "python3"
  },
  "language_info": {
   "codemirror_mode": {
    "name": "ipython",
    "version": 3
   },
   "file_extension": ".py",
   "mimetype": "text/x-python",
   "name": "python",
   "nbconvert_exporter": "python",
   "pygments_lexer": "ipython3",
   "version": "3.11.7"
  }
 },
 "nbformat": 4,
 "nbformat_minor": 5
}
