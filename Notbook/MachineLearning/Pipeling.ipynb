{
 "cells": [
  {
   "cell_type": "markdown",
   "id": "eca01744",
   "metadata": {},
   "source": [
    "# Data_Load"
   ]
  },
  {
   "cell_type": "code",
   "execution_count": 1,
   "id": "4da455b4",
   "metadata": {},
   "outputs": [],
   "source": [
    "import pandas as pd\n",
    "from seaborn import load_dataset\n",
    "\n",
    "original = load_dataset(\"titanic\")\n",
    "collist  =  ['sex','age','fare','class','survived']\n",
    "Df       =   original[collist].copy()\n",
    "target   =   'survived'\n"
   ]
  },
  {
   "cell_type": "code",
   "execution_count": 4,
   "id": "d34d7f8b",
   "metadata": {},
   "outputs": [],
   "source": [
    "Df['age']=Df['age'].fillna(Df['age'].median())"
   ]
  },
  {
   "cell_type": "markdown",
   "id": "5aa62b90",
   "metadata": {},
   "source": [
    "***\n",
    "# Production \n",
    "***"
   ]
  },
  {
   "cell_type": "code",
   "execution_count": null,
   "id": "bbfbde1d",
   "metadata": {},
   "outputs": [],
   "source": []
  },
  {
   "cell_type": "markdown",
   "id": "1dc7bcec",
   "metadata": {},
   "source": [
    "## Test and Evaluate"
   ]
  },
  {
   "cell_type": "markdown",
   "id": "08971166",
   "metadata": {},
   "source": [
    "# Front End"
   ]
  }
 ],
 "metadata": {
  "kernelspec": {
   "display_name": ".AIexpert",
   "language": "python",
   "name": "python3"
  },
  "language_info": {
   "codemirror_mode": {
    "name": "ipython",
    "version": 3
   },
   "file_extension": ".py",
   "mimetype": "text/x-python",
   "name": "python",
   "nbconvert_exporter": "python",
   "pygments_lexer": "ipython3",
   "version": "3.11.7"
  }
 },
 "nbformat": 4,
 "nbformat_minor": 5
}
