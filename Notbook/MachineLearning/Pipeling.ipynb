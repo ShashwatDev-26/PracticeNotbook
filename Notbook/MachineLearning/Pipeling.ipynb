{
 "cells": [
  {
   "cell_type": "markdown",
   "id": "eca01744",
   "metadata": {},
   "source": [
    "# Data_Load"
   ]
  },
  {
   "cell_type": "code",
   "execution_count": 19,
   "id": "4da455b4",
   "metadata": {},
   "outputs": [],
   "source": [
    "import pandas as pd\n",
    "from seaborn import load_dataset\n",
    "\n",
    "original = load_dataset(\"titanic\")\n",
    "collist  =  ['sex','age','fare','class','survived']\n",
    "Df       =   original[collist].copy()\n",
    "target   =   'survived'\n"
   ]
  },
  {
   "cell_type": "code",
   "execution_count": 20,
   "id": "3dadccd4",
   "metadata": {},
   "outputs": [],
   "source": [
    "test = Df.head(10)"
   ]
  },
  {
   "cell_type": "code",
   "execution_count": 30,
   "id": "0a16c6e5",
   "metadata": {},
   "outputs": [
    {
     "data": {
      "text/html": [
       "<div>\n",
       "<style scoped>\n",
       "    .dataframe tbody tr th:only-of-type {\n",
       "        vertical-align: middle;\n",
       "    }\n",
       "\n",
       "    .dataframe tbody tr th {\n",
       "        vertical-align: top;\n",
       "    }\n",
       "\n",
       "    .dataframe thead th {\n",
       "        text-align: right;\n",
       "    }\n",
       "</style>\n",
       "<table border=\"1\" class=\"dataframe\">\n",
       "  <thead>\n",
       "    <tr style=\"text-align: right;\">\n",
       "      <th></th>\n",
       "      <th>sex</th>\n",
       "      <th>age</th>\n",
       "      <th>fare</th>\n",
       "      <th>class</th>\n",
       "      <th>survived</th>\n",
       "    </tr>\n",
       "  </thead>\n",
       "  <tbody>\n",
       "    <tr>\n",
       "      <th>0</th>\n",
       "      <td>male</td>\n",
       "      <td>22.0</td>\n",
       "      <td>7.2500</td>\n",
       "      <td>Third</td>\n",
       "      <td>0</td>\n",
       "    </tr>\n",
       "    <tr>\n",
       "      <th>1</th>\n",
       "      <td>female</td>\n",
       "      <td>38.0</td>\n",
       "      <td>71.2833</td>\n",
       "      <td>First</td>\n",
       "      <td>1</td>\n",
       "    </tr>\n",
       "    <tr>\n",
       "      <th>2</th>\n",
       "      <td>female</td>\n",
       "      <td>26.0</td>\n",
       "      <td>7.9250</td>\n",
       "      <td>Third</td>\n",
       "      <td>1</td>\n",
       "    </tr>\n",
       "    <tr>\n",
       "      <th>3</th>\n",
       "      <td>female</td>\n",
       "      <td>35.0</td>\n",
       "      <td>53.1000</td>\n",
       "      <td>First</td>\n",
       "      <td>1</td>\n",
       "    </tr>\n",
       "    <tr>\n",
       "      <th>4</th>\n",
       "      <td>male</td>\n",
       "      <td>35.0</td>\n",
       "      <td>8.0500</td>\n",
       "      <td>Third</td>\n",
       "      <td>0</td>\n",
       "    </tr>\n",
       "    <tr>\n",
       "      <th>5</th>\n",
       "      <td>male</td>\n",
       "      <td>NaN</td>\n",
       "      <td>8.4583</td>\n",
       "      <td>Third</td>\n",
       "      <td>0</td>\n",
       "    </tr>\n",
       "    <tr>\n",
       "      <th>6</th>\n",
       "      <td>male</td>\n",
       "      <td>54.0</td>\n",
       "      <td>51.8625</td>\n",
       "      <td>First</td>\n",
       "      <td>0</td>\n",
       "    </tr>\n",
       "    <tr>\n",
       "      <th>7</th>\n",
       "      <td>male</td>\n",
       "      <td>2.0</td>\n",
       "      <td>21.0750</td>\n",
       "      <td>Third</td>\n",
       "      <td>0</td>\n",
       "    </tr>\n",
       "    <tr>\n",
       "      <th>8</th>\n",
       "      <td>female</td>\n",
       "      <td>27.0</td>\n",
       "      <td>11.1333</td>\n",
       "      <td>Third</td>\n",
       "      <td>1</td>\n",
       "    </tr>\n",
       "    <tr>\n",
       "      <th>9</th>\n",
       "      <td>female</td>\n",
       "      <td>14.0</td>\n",
       "      <td>30.0708</td>\n",
       "      <td>Second</td>\n",
       "      <td>1</td>\n",
       "    </tr>\n",
       "  </tbody>\n",
       "</table>\n",
       "</div>"
      ],
      "text/plain": [
       "      sex   age     fare   class  survived\n",
       "0    male  22.0   7.2500   Third         0\n",
       "1  female  38.0  71.2833   First         1\n",
       "2  female  26.0   7.9250   Third         1\n",
       "3  female  35.0  53.1000   First         1\n",
       "4    male  35.0   8.0500   Third         0\n",
       "5    male   NaN   8.4583   Third         0\n",
       "6    male  54.0  51.8625   First         0\n",
       "7    male   2.0  21.0750   Third         0\n",
       "8  female  27.0  11.1333   Third         1\n",
       "9  female  14.0  30.0708  Second         1"
      ]
     },
     "execution_count": 30,
     "metadata": {},
     "output_type": "execute_result"
    }
   ],
   "source": [
    "test"
   ]
  },
  {
   "cell_type": "code",
   "execution_count": 28,
   "id": "313d55ea",
   "metadata": {},
   "outputs": [],
   "source": [
    "import numpy as np\n",
    "def rollin(x):\n",
    "  return np.zeros_like(x)\n",
    "from sklearn.preprocessing import FunctionTransformer\n",
    "from sklearn.compose import ColumnTransformer"
   ]
  },
  {
   "cell_type": "code",
   "execution_count": 31,
   "id": "0e94b9b5",
   "metadata": {},
   "outputs": [
    {
     "data": {
      "text/plain": [
       "array([[0.0, 'male', 7.25, 'Third', 0],\n",
       "       [0.0, 'female', 71.2833, 'First', 1],\n",
       "       [0.0, 'female', 7.925, 'Third', 1],\n",
       "       [0.0, 'female', 53.1, 'First', 1],\n",
       "       [0.0, 'male', 8.05, 'Third', 0],\n",
       "       [0.0, 'male', 8.4583, 'Third', 0],\n",
       "       [0.0, 'male', 51.8625, 'First', 0],\n",
       "       [0.0, 'male', 21.075, 'Third', 0],\n",
       "       [0.0, 'female', 11.1333, 'Third', 1],\n",
       "       [0.0, 'female', 30.0708, 'Second', 1]], dtype=object)"
      ]
     },
     "execution_count": 31,
     "metadata": {},
     "output_type": "execute_result"
    }
   ],
   "source": [
    "ct = ColumnTransformer(transformers=[(\"justZero\",FunctionTransformer(rollin),[\"age\"])]\n",
    "                       ,remainder='passthrough')\n",
    "\n",
    "ct.fit_transform(test)"
   ]
  },
  {
   "cell_type": "code",
   "execution_count": 13,
   "id": "d34d7f8b",
   "metadata": {},
   "outputs": [],
   "source": [
    "Df['age']=Df['age'].fillna(Df['age'].rolling(window=3,min_periods=1).mean())"
   ]
  },
  {
   "cell_type": "markdown",
   "id": "5aa62b90",
   "metadata": {},
   "source": [
    "***\n",
    "# Production \n",
    "***"
   ]
  },
  {
   "cell_type": "code",
   "execution_count": null,
   "id": "bbfbde1d",
   "metadata": {},
   "outputs": [],
   "source": []
  },
  {
   "cell_type": "markdown",
   "id": "1dc7bcec",
   "metadata": {},
   "source": [
    "## Test and Evaluate"
   ]
  },
  {
   "cell_type": "markdown",
   "id": "08971166",
   "metadata": {},
   "source": [
    "# Front End"
   ]
  }
 ],
 "metadata": {
  "kernelspec": {
   "display_name": ".AIexpert",
   "language": "python",
   "name": "python3"
  },
  "language_info": {
   "codemirror_mode": {
    "name": "ipython",
    "version": 3
   },
   "file_extension": ".py",
   "mimetype": "text/x-python",
   "name": "python",
   "nbconvert_exporter": "python",
   "pygments_lexer": "ipython3",
   "version": "3.11.7"
  }
 },
 "nbformat": 4,
 "nbformat_minor": 5
}
