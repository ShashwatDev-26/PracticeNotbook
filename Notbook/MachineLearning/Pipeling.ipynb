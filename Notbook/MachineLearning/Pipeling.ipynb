{
 "cells": [
  {
   "cell_type": "markdown",
   "id": "eca01744",
   "metadata": {},
   "source": [
    "# Data_Load"
   ]
  },
  {
   "cell_type": "code",
   "execution_count": 1,
   "id": "4da455b4",
   "metadata": {},
   "outputs": [],
   "source": [
    "from seaborn import load_dataset\n",
    "import pandas as pd\n",
    "original = load_dataset(\"titanic\")\n"
   ]
  },
  {
   "cell_type": "code",
   "execution_count": 2,
   "id": "eee8c8dd",
   "metadata": {},
   "outputs": [],
   "source": [
    "collist=['survived','pclass','sex','age','sibsp','fare']\n",
    "Df = original[collist].copy()\n",
    "Df.dropna(axis=0,inplace=True)\n",
    "ind = Df.drop(columns=\"survived\",axis=1)\n",
    "dep = Df[\"survived\"]"
   ]
  },
  {
   "cell_type": "code",
   "execution_count": 3,
   "id": "bbd7d113",
   "metadata": {},
   "outputs": [],
   "source": [
    "encoding = dict(zip(ind[\"sex\"].unique().tolist(),[0,1]))\n",
    "ind['sex'] = ind['sex'].map(encoding)"
   ]
  },
  {
   "cell_type": "markdown",
   "id": "5aa62b90",
   "metadata": {},
   "source": [
    "***\n",
    "# Production \n",
    "***"
   ]
  },
  {
   "cell_type": "markdown",
   "id": "b81a6509",
   "metadata": {},
   "source": [
    "## Backend\n",
    "- Data is in ind and dep literals"
   ]
  },
  {
   "cell_type": "markdown",
   "id": "1dc7bcec",
   "metadata": {},
   "source": [
    "## Test and Evaluate"
   ]
  },
  {
   "cell_type": "markdown",
   "id": "08971166",
   "metadata": {},
   "source": [
    "# Front End"
   ]
  }
 ],
 "metadata": {
  "kernelspec": {
   "display_name": "base",
   "language": "python",
   "name": "python3"
  },
  "language_info": {
   "codemirror_mode": {
    "name": "ipython",
    "version": 3
   },
   "file_extension": ".py",
   "mimetype": "text/x-python",
   "name": "python",
   "nbconvert_exporter": "python",
   "pygments_lexer": "ipython3",
   "version": "3.11.7"
  }
 },
 "nbformat": 4,
 "nbformat_minor": 5
}
