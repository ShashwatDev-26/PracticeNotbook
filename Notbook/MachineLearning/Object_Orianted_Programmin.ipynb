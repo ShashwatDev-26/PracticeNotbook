{
 "cells": [
  {
   "cell_type": "markdown",
   "id": "c6c237cb",
   "metadata": {},
   "source": [
    "# OOPs"
   ]
  },
  {
   "cell_type": "code",
   "execution_count": 8,
   "id": "d40b8bf6",
   "metadata": {},
   "outputs": [],
   "source": [
    "# create a bank dummy bank with class\n",
    "class bank:\n",
    "    def __init__(self,accountNumber:str,name:str,amount:float=1000):\n",
    "        self.accountNumber = accountNumber\n",
    "        self.name = name\n",
    "        self.amount = amount\n",
    "    def details(self):\n",
    "        msg = f\"\"\"\n",
    "        Hii {self.name} welcome to garib-bank,\n",
    "        you are our first priority,\n",
    "        your current balance is {self.amount:.2f} $\n",
    "        we can recognize you with Account no.{self.accountNumber} \n",
    "        Thank you to visit ! \n",
    "        \"\"\"\n",
    "        return msg\n",
    "\n",
    "    def deposit(self,credit_ammount):\n",
    "        self.amount+=credit_ammount\n",
    "\n",
    "\n",
    "    def withdrawl(self,debite_Amount):\n",
    "        if debite_Amount>self.amount:\n",
    "            print(\"Low balance! \")\n",
    "        else:\n",
    "            self.amount-=debite_Amount\n",
    "            print(f\"Your current balence is {self.currentBal()}\")\n",
    "   \n",
    "    def currentBal(self):\n",
    "        return self.amount\n",
    "\n",
    "\n"
   ]
  },
  {
   "cell_type": "markdown",
   "id": "83a5a11c",
   "metadata": {},
   "source": [
    "## inharitance"
   ]
  },
  {
   "cell_type": "code",
   "execution_count": 29,
   "id": "63dde7e5",
   "metadata": {},
   "outputs": [],
   "source": [
    "class RTO:\n",
    "    def __init__(self,name:str,llnumber:str,vehical:str):\n",
    "        self.name      =  name\n",
    "        self.llnumber  =  llnumber\n",
    "        self.vehical   =  vehical\n",
    "    def details(self):\n",
    "        return \"From RTO\"\n",
    "\n",
    "class LMV(RTO):\n",
    "    def __init__(self,name:str,llnumber:str,vehical:str,status:bool):\n",
    "        super().__init__(name,llnumber,vehical)\n",
    "        self.status = status\n",
    "    def details(self):\n",
    "        if self.status:\n",
    "            print(f\"You can Drive your {self.vehical}\")\n",
    "            print(\"keep you seat belt ON while driving\")\n",
    "        else:\n",
    "            print(f\"please hold licence first\")\n",
    "\n",
    "\n",
    "class TWV(RTO):\n",
    "    def __init__(self,name:str,llnumber:str,vehical:str,status:bool):\n",
    "        super().__init__(name,llnumber,vehical)\n",
    "        self.status = status\n",
    "    def details(self):\n",
    "        if self.status:\n",
    "            print(f\"You can ride your {self.vehical}\")\n",
    "            print(\"Always use your helmate! \")\n",
    "        else:\n",
    "            print(f\"Please hold licence first\")"
   ]
  },
  {
   "cell_type": "code",
   "execution_count": 27,
   "id": "bfa56da7",
   "metadata": {},
   "outputs": [
    {
     "data": {
      "text/plain": [
       "'From RTO'"
      ]
     },
     "execution_count": 27,
     "metadata": {},
     "output_type": "execute_result"
    }
   ],
   "source": [
    "main = RTO(\"xyz\",\"abc\",\"pqr\")\n",
    "main.details()"
   ]
  },
  {
   "cell_type": "code",
   "execution_count": 28,
   "id": "c4bf6216",
   "metadata": {},
   "outputs": [
    {
     "name": "stdout",
     "output_type": "stream",
     "text": [
      "please hold licence first\n"
     ]
    }
   ],
   "source": [
    "app2 = TWV(\"Amit verma\",\"JH03-2025212344\",\"duke 340\",False)\n",
    "app2.details()"
   ]
  },
  {
   "cell_type": "code",
   "execution_count": 30,
   "id": "2f14d038",
   "metadata": {},
   "outputs": [
    {
     "name": "stdout",
     "output_type": "stream",
     "text": [
      "You can Drive your Tata Nano\n",
      "keep you seat belt ON while driving\n"
     ]
    }
   ],
   "source": [
    "app1 = LMV(\"Aman Kr. Gupta\",\"jh03-2025212344\",\"Tata Nano\",True)\n",
    "app1.details()"
   ]
  },
  {
   "cell_type": "markdown",
   "id": "eb836ebb",
   "metadata": {},
   "source": [
    "## polymorphism"
   ]
  },
  {
   "cell_type": "markdown",
   "id": "6876f686",
   "metadata": {},
   "source": [
    "### method overriding\n",
    "***"
   ]
  },
  {
   "cell_type": "code",
   "execution_count": null,
   "id": "e37a824e",
   "metadata": {},
   "outputs": [],
   "source": []
  },
  {
   "cell_type": "code",
   "execution_count": null,
   "id": "56be06ed",
   "metadata": {},
   "outputs": [],
   "source": []
  },
  {
   "cell_type": "code",
   "execution_count": null,
   "id": "c4d32b0c",
   "metadata": {},
   "outputs": [],
   "source": []
  },
  {
   "cell_type": "markdown",
   "id": "64fa48e0",
   "metadata": {},
   "source": [
    "### interface\n",
    "**Abstract Base calss**"
   ]
  },
  {
   "cell_type": "code",
   "execution_count": null,
   "id": "b7af0510",
   "metadata": {},
   "outputs": [],
   "source": [
    "from abc import ABC,abstractmethod"
   ]
  },
  {
   "cell_type": "markdown",
   "id": "49dbc26a",
   "metadata": {},
   "source": []
  }
 ],
 "metadata": {
  "kernelspec": {
   "display_name": "base",
   "language": "python",
   "name": "python3"
  },
  "language_info": {
   "codemirror_mode": {
    "name": "ipython",
    "version": 3
   },
   "file_extension": ".py",
   "mimetype": "text/x-python",
   "name": "python",
   "nbconvert_exporter": "python",
   "pygments_lexer": "ipython3",
   "version": "3.11.7"
  }
 },
 "nbformat": 4,
 "nbformat_minor": 5
}
