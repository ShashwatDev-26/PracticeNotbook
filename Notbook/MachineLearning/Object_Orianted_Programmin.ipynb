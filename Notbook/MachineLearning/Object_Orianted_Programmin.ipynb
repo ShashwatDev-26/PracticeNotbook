{
 "cells": [
  {
   "cell_type": "markdown",
   "id": "c6c237cb",
   "metadata": {},
   "source": [
    "# OOPs"
   ]
  },
  {
   "cell_type": "markdown",
   "id": "83a5a11c",
   "metadata": {},
   "source": [
    "## inharitance"
   ]
  },
  {
   "cell_type": "code",
   "execution_count": 11,
   "id": "63dde7e5",
   "metadata": {},
   "outputs": [],
   "source": [
    "class constructionBuilding:\n",
    "    def __init__(self,cost:float,material:list,site:str):\n",
    "        self.cost = cost\n",
    "        self.material= material\n",
    "        self.site = site\n",
    "    def messageReport(self):\n",
    "        print(f\"Your construction will take approximate {self.cost:.2f}\")\n",
    "        print(f\"Please arrenge the list of materials {self.material}\")\n",
    "        print(f\"See You at {self.site}\")\n",
    "\n",
    "class home(constructionBuilding):\n",
    "    def __init__(self, cost, material, site,foundation:str,measurement:list[2]):\n",
    "        super().__init__(cost, material, site)\n",
    "        self.foundation = foundation\n",
    "        self.measurement = measurement\n",
    "    def message(self):\n",
    "        self.messageReport()\n",
    "        print(\"Home sweet home !\")\n",
    "\n"
   ]
  },
  {
   "cell_type": "code",
   "execution_count": 12,
   "id": "7a3edb43",
   "metadata": {},
   "outputs": [],
   "source": [
    "my = home(12000,[\"cement\",\"chips\",\"sand\",\"bicks\",\"water\"],\"local\",\"deepStraight\",[128,128])"
   ]
  },
  {
   "cell_type": "code",
   "execution_count": 14,
   "id": "ab8bd828",
   "metadata": {},
   "outputs": [
    {
     "name": "stdout",
     "output_type": "stream",
     "text": [
      "Your construction will take approximate 12000.00\n",
      "Please arrenge the list of materials ['cement', 'chips', 'sand', 'bicks', 'water']\n",
      "See You at local\n"
     ]
    }
   ],
   "source": [
    "my.messageReport()"
   ]
  },
  {
   "cell_type": "code",
   "execution_count": null,
   "id": "e37a824e",
   "metadata": {},
   "outputs": [],
   "source": []
  }
 ],
 "metadata": {
  "kernelspec": {
   "display_name": "base",
   "language": "python",
   "name": "python3"
  },
  "language_info": {
   "codemirror_mode": {
    "name": "ipython",
    "version": 3
   },
   "file_extension": ".py",
   "mimetype": "text/x-python",
   "name": "python",
   "nbconvert_exporter": "python",
   "pygments_lexer": "ipython3",
   "version": "3.11.7"
  }
 },
 "nbformat": 4,
 "nbformat_minor": 5
}
