{
 "cells": [
  {
   "cell_type": "markdown",
   "id": "c6c237cb",
   "metadata": {},
   "source": [
    "# OOPs"
   ]
  },
  {
   "cell_type": "code",
   "execution_count": null,
   "id": "d40b8bf6",
   "metadata": {},
   "outputs": [],
   "source": [
    "# create a bank dummy bank with class"
   ]
  },
  {
   "cell_type": "code",
   "execution_count": null,
   "id": "e108a2c4",
   "metadata": {},
   "outputs": [
    {
     "name": "stdout",
     "output_type": "stream",
     "text": [
      " \n",
      "            account no : 123456\n",
      "            Name       : pawan kumar\n",
      "            total      : 950 \n"
     ]
    }
   ],
   "source": []
  },
  {
   "cell_type": "code",
   "execution_count": null,
   "id": "b58162a5",
   "metadata": {},
   "outputs": [
    {
     "name": "stdout",
     "output_type": "stream",
     "text": [
      "[*] Transiction of 50.00 is comleted! \n",
      "[*] current balance 900\n"
     ]
    }
   ],
   "source": []
  },
  {
   "cell_type": "markdown",
   "id": "83a5a11c",
   "metadata": {},
   "source": [
    "## inharitance"
   ]
  },
  {
   "cell_type": "code",
   "execution_count": 13,
   "id": "63dde7e5",
   "metadata": {},
   "outputs": [],
   "source": [
    "class school:\n",
    "    def __init__(self,sname:str=\"public school\",code:str=\"ps834009\"):\n",
    "        self.sname = sname\n",
    "        self.code  = code\n",
    "    def profile(self):\n",
    "        return \"your profile\"\n",
    "    \n",
    "class student(school):\n",
    "    def __init__(self, name:str, std:int, section:str, status:str):\n",
    "        super().__init__()\n",
    "        self.name    = name\n",
    "        self.std     = std\n",
    "        self.section = section\n",
    "        self.status  = status\n",
    "        \n",
    "    def message(self):\n",
    "        msg= f\"\"\" Hii {self.name}, \n",
    "        welcome to {self.sname}. \n",
    "        you are now a {self.status} of {self.std} {self.section} \n",
    "        congralutations! \"\"\"\n",
    "        return msg\n",
    "    \n",
    "class teacher(school):\n",
    "    def __init__(self, name:str, salary:float, jod:str, subject:str):\n",
    "        super().__init__()\n",
    "        self.name    = name\n",
    "        self.salary  = salary\n",
    "        self.jod     = jod\n",
    "        self.subject = subject\n",
    "    def message(self):\n",
    "        msg = f\"\"\"Congratulations! \n",
    "{self.name} you are now part of {self.sname} Family.\n",
    "you'r going to teach {self.subject} to students from {self.jod} \n",
    "with componcation of {self.salary}$ \n",
    "    good luck! \"\"\"\n",
    "        return msg\n",
    "\n"
   ]
  },
  {
   "cell_type": "code",
   "execution_count": 14,
   "id": "10642699",
   "metadata": {},
   "outputs": [
    {
     "name": "stdout",
     "output_type": "stream",
     "text": [
      "Congratulations! \n",
      "jone martha you are now part of public school Family.\n",
      "you'r going to teach English to students from 22-10-2025 \n",
      "with componcation of 12000.0$ \n",
      "    good luck! \n"
     ]
    }
   ],
   "source": [
    "jone = teacher(\"jone martha\",12000.00,\"22-10-2025\",\"English\")\n",
    "print(jone.message())"
   ]
  },
  {
   "cell_type": "code",
   "execution_count": 15,
   "id": "7a3edb43",
   "metadata": {},
   "outputs": [
    {
     "name": "stdout",
     "output_type": "stream",
     "text": [
      " Hii jony marlin, \n",
      "        welcome to public school. \n",
      "        you are now a  class representative  of 4 Bathovian \n",
      "        congralutations! \n"
     ]
    }
   ],
   "source": [
    "jony = student(\"jony marlin\",4,\"Bathovian\",' class representative ')\n",
    "print(jony.message())"
   ]
  },
  {
   "cell_type": "markdown",
   "id": "eb836ebb",
   "metadata": {},
   "source": [
    "## polymorphism"
   ]
  },
  {
   "cell_type": "markdown",
   "id": "6876f686",
   "metadata": {},
   "source": [
    "### method overriding\n",
    "***"
   ]
  },
  {
   "cell_type": "code",
   "execution_count": null,
   "id": "e37a824e",
   "metadata": {},
   "outputs": [],
   "source": []
  },
  {
   "cell_type": "code",
   "execution_count": null,
   "id": "56be06ed",
   "metadata": {},
   "outputs": [],
   "source": []
  },
  {
   "cell_type": "code",
   "execution_count": null,
   "id": "c4d32b0c",
   "metadata": {},
   "outputs": [],
   "source": []
  },
  {
   "cell_type": "markdown",
   "id": "64fa48e0",
   "metadata": {},
   "source": [
    "### interface\n",
    "**Abstract Base calss**"
   ]
  },
  {
   "cell_type": "code",
   "execution_count": null,
   "id": "b7af0510",
   "metadata": {},
   "outputs": [],
   "source": [
    "from abc import ABC,abstractmethod"
   ]
  },
  {
   "cell_type": "markdown",
   "id": "49dbc26a",
   "metadata": {},
   "source": []
  }
 ],
 "metadata": {
  "kernelspec": {
   "display_name": "base",
   "language": "python",
   "name": "python3"
  },
  "language_info": {
   "codemirror_mode": {
    "name": "ipython",
    "version": 3
   },
   "file_extension": ".py",
   "mimetype": "text/x-python",
   "name": "python",
   "nbconvert_exporter": "python",
   "pygments_lexer": "ipython3",
   "version": "3.11.7"
  }
 },
 "nbformat": 4,
 "nbformat_minor": 5
}
