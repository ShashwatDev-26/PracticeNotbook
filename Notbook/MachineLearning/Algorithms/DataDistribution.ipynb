{
 "cells": [
  {
   "cell_type": "markdown",
   "id": "6b1cb4bb",
   "metadata": {},
   "source": [
    "# Data Distribution"
   ]
  },
  {
   "cell_type": "code",
   "execution_count": 3,
   "id": "98f98beb",
   "metadata": {},
   "outputs": [],
   "source": [
    "import numpy as np \n",
    "sample = 500"
   ]
  },
  {
   "cell_type": "markdown",
   "id": "75109eb6",
   "metadata": {},
   "source": [
    "## Continous"
   ]
  },
  {
   "cell_type": "code",
   "execution_count": null,
   "id": "4d1d3b86",
   "metadata": {},
   "outputs": [],
   "source": [
    "# normal distribution :- Data around the average standard mean 0 standard 1\n",
    "c1 = np.random.normal(0.1,0.89,sample).reshape(-1,1)"
   ]
  },
  {
   "cell_type": "code",
   "execution_count": null,
   "id": "8145fe27",
   "metadata": {},
   "outputs": [],
   "source": [
    "# uniform distribution :- data where every outcome is equally likely\n",
    "c2 = np.random.uniform(0,1,sample).reshape(-1,1)"
   ]
  },
  {
   "cell_type": "markdown",
   "id": "956b3dbe",
   "metadata": {},
   "source": [
    "## Discrete"
   ]
  },
  {
   "cell_type": "code",
   "execution_count": null,
   "id": "e4c8844e",
   "metadata": {},
   "outputs": [],
   "source": [
    "# Binomial distribution :- number of success in batch within probablity hear 50 * 0.7 = 35 output should be >=35 to satisfiy the probablity score\n",
    "d1 = np.random.binomial(50,0.7,sample).reshape(-1,1)"
   ]
  },
  {
   "cell_type": "code",
   "execution_count": null,
   "id": "ac1ca464",
   "metadata": {},
   "outputs": [
    {
     "data": {
      "text/plain": [
       "array([2, 1, 3, 4, 2], dtype=int32)"
      ]
     },
     "execution_count": 14,
     "metadata": {},
     "output_type": "execute_result"
    }
   ],
   "source": [
    "# Poission Distribution :- Expceted output for fixd intervel \n",
    "d2 = np.random.poisson(2,sample)\n",
    "d2\n",
    "# [3,3,2,2,1]"
   ]
  },
  {
   "cell_type": "code",
   "execution_count": null,
   "id": "7b9d5a04",
   "metadata": {},
   "outputs": [],
   "source": []
  }
 ],
 "metadata": {
  "kernelspec": {
   "display_name": "base",
   "language": "python",
   "name": "python3"
  },
  "language_info": {
   "codemirror_mode": {
    "name": "ipython",
    "version": 3
   },
   "file_extension": ".py",
   "mimetype": "text/x-python",
   "name": "python",
   "nbconvert_exporter": "python",
   "pygments_lexer": "ipython3",
   "version": "3.11.7"
  }
 },
 "nbformat": 4,
 "nbformat_minor": 5
}
