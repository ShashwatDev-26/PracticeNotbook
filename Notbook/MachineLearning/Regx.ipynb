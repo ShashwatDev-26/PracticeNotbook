{
 "cells": [
  {
   "cell_type": "markdown",
   "id": "921b3cd1",
   "metadata": {},
   "source": [
    "# Find Reguler Expression"
   ]
  },
  {
   "cell_type": "markdown",
   "id": "25e8d89e",
   "metadata": {},
   "source": [
    "## Corpus"
   ]
  },
  {
   "cell_type": "code",
   "execution_count": 10,
   "id": "6f4765c5",
   "metadata": {},
   "outputs": [],
   "source": [
    "import re\n",
    "\n",
    "msg = \"\"\"British boxing icon Ricky Hatton has passed away at the age of 46. Hatton was found dead at his home in Hyde, Greater Manchester, email ecxgxmrlkyeijicgex@nespj.com phone +91-8613456879 website https://www.hoopladigital.com/browse/movie ,https://everycircuit.com/app, The Independent reported. He was not just one of the most popular boxers of his time; he was also a wealthy one.<h1></h1> In total, https://store.epicgames.com/en-US/collection/top-sellers he is said to have earned around $65 million in fight purses and bonuses during his career. At the time of his passing, Celebrity Net Worth reported Ricky Hatton's net worth to be $40 million.\n",
    "\"\"\"\n",
    "\n",
    "websitecode = \"\"\"\n",
    "<!DOCTYPE html>\n",
    "<html lang=\"en\">\n",
    "<head>\n",
    "    <meta charset=\"UTF-8\">\n",
    "    <meta name=\"viewport\" content=\"width=device-width, initial-scale=1.0\">\n",
    "    <title>My First Webpage</title>\n",
    "</head>\n",
    "<body>\n",
    "    <h1>Welcome to My Page!</h1>\n",
    "    <p>This is an example of a simple webpage created using HTML.</p>\n",
    "    <p>You can add more content here, such as images, links, and more paragraphs.</p>\n",
    "</body>\n",
    "</html>\n",
    "\"\"\""
   ]
  },
  {
   "cell_type": "markdown",
   "id": "c7bcd92e",
   "metadata": {},
   "source": [
    "## Find the Fist word and the last word in the msg"
   ]
  },
  {
   "cell_type": "code",
   "execution_count": 11,
   "id": "65dbbc38",
   "metadata": {},
   "outputs": [
    {
     "name": "stdout",
     "output_type": "stream",
     "text": [
      "['British']\n",
      "['million.']\n"
     ]
    }
   ],
   "source": [
    "first = r\"^[\\w]+\"\n",
    "last  = r\"[\\w.]+$\"\n",
    "print(re.findall(first,msg))\n",
    "print(re.findall(last,msg))"
   ]
  },
  {
   "cell_type": "markdown",
   "id": "81536a86",
   "metadata": {},
   "source": [
    "## Find the email on message"
   ]
  },
  {
   "cell_type": "code",
   "execution_count": 15,
   "id": "f530fe46",
   "metadata": {},
   "outputs": [
    {
     "name": "stdout",
     "output_type": "stream",
     "text": [
      "['ecxgxmrlkyeijicgex@nespj.com']\n"
     ]
    }
   ],
   "source": [
    "email =r\"[\\w]+[@]+[\\w.]+[\\w]+\"\n",
    "print(re.findall(email,msg))"
   ]
  },
  {
   "cell_type": "markdown",
   "id": "6f20e459",
   "metadata": {},
   "source": [
    "## Find phone number"
   ]
  },
  {
   "cell_type": "code",
   "execution_count": 16,
   "id": "ac64a32e",
   "metadata": {},
   "outputs": [
    {
     "name": "stdout",
     "output_type": "stream",
     "text": [
      "['+91-8613456879']\n"
     ]
    }
   ],
   "source": [
    "phone =r\"[+91-]+\\d{10}\"\n",
    "print(re.findall(phone,msg))"
   ]
  },
  {
   "cell_type": "markdown",
   "id": "49305507",
   "metadata": {},
   "source": [
    "## Find all websites"
   ]
  },
  {
   "cell_type": "code",
   "execution_count": 27,
   "id": "4332afa9",
   "metadata": {},
   "outputs": [
    {
     "name": "stdout",
     "output_type": "stream",
     "text": [
      "['https://www.hoopladigital.com/browse/movie', 'https://everycircuit.com/app', 'https://store.epicgames.com/en']\n"
     ]
    }
   ],
   "source": [
    "link = r\"https?://[\\w/.]+\"\n",
    "print(re.findall(link,msg))"
   ]
  }
 ],
 "metadata": {
  "kernelspec": {
   "display_name": "base",
   "language": "python",
   "name": "python3"
  },
  "language_info": {
   "codemirror_mode": {
    "name": "ipython",
    "version": 3
   },
   "file_extension": ".py",
   "mimetype": "text/x-python",
   "name": "python",
   "nbconvert_exporter": "python",
   "pygments_lexer": "ipython3",
   "version": "3.11.7"
  }
 },
 "nbformat": 4,
 "nbformat_minor": 5
}
