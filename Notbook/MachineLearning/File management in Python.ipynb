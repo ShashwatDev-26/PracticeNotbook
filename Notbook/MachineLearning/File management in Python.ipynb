{
 "cells": [
  {
   "cell_type": "code",
   "execution_count": null,
   "id": "0f4e23b4-3d39-41f6-a296-c52eac36b12a",
   "metadata": {},
   "outputs": [],
   "source": [
    "# 1. What is file handling in Python?"
   ]
  },
  {
   "cell_type": "code",
   "execution_count": 1,
   "id": "4f791ee7",
   "metadata": {},
   "outputs": [],
   "source": [
    "with open(\"input.txt\",\"w\") as f:\n",
    "  for i in range(0,1000):\n",
    "    f.write(f\"line No. {i} \\n\")"
   ]
  },
  {
   "cell_type": "code",
   "execution_count": 10,
   "id": "eb7de516",
   "metadata": {},
   "outputs": [
    {
     "name": "stdout",
     "output_type": "stream",
     "text": [
      "line No. 0 \n",
      "\n",
      "ine No. 0 \n",
      "\n",
      "ne No. 0 \n",
      "\n",
      "e No. 0 \n",
      "\n",
      " No. 0 \n",
      "\n",
      "No. 0 \n",
      "\n",
      "o. 0 \n",
      "\n",
      ". 0 \n",
      "\n",
      " 0 \n",
      "\n",
      "0 \n",
      "\n"
     ]
    }
   ],
   "source": [
    "with open(\"input.txt\",\"r\") as f:\n",
    "  for i in range(0,10):\n",
    "    f.seek(i)\n",
    "    print(f.readline())\n"
   ]
  },
  {
   "cell_type": "markdown",
   "id": "721de4d9-47b8-42dd-a974-cd63ea59344a",
   "metadata": {},
   "source": [
    "File handling allows Python programs to read, write, and manage files stored on disk."
   ]
  },
  {
   "cell_type": "code",
   "execution_count": null,
   "id": "3ed209e5-56d2-4053-9f9b-0e80261428e7",
   "metadata": {},
   "outputs": [],
   "source": [
    "# 2. Explain Importance of File Management in Python for Data Science"
   ]
  },
  {
   "cell_type": "markdown",
   "id": "b7140c7a-8d99-4271-8f22-b1c39314049c",
   "metadata": {},
   "source": [
    "* File management in Python is crucial in Data Science because most real-world data is stored in files.\n",
    "* It allows us to read raw datasets (CSV, JSON, Excel, images), process and analyze them, and then save the outputs or trained models back into files.\n",
    "*  Without file handling, building data pipelines, handling large datasets, or ensuring reproducibility of analysis would not be possible."
   ]
  },
  {
   "cell_type": "code",
   "execution_count": null,
   "id": "ec4bdf2c-4f88-467d-a7b7-ee9d8ace1367",
   "metadata": {},
   "outputs": [],
   "source": [
    "3. How do you open a file in Python? What is the default mode of open()?"
   ]
  },
  {
   "cell_type": "code",
   "execution_count": 1,
   "id": "667eec40-1fb6-4ce2-bddb-eb23a8a55b61",
   "metadata": {},
   "outputs": [
    {
     "ename": "FileNotFoundError",
     "evalue": "[Errno 2] No such file or directory: 'example.txt'",
     "output_type": "error",
     "traceback": [
      "\u001b[1;31m---------------------------------------------------------------------------\u001b[0m",
      "\u001b[1;31mFileNotFoundError\u001b[0m                         Traceback (most recent call last)",
      "Cell \u001b[1;32mIn[1], line 3\u001b[0m\n\u001b[0;32m      1\u001b[0m \u001b[38;5;66;03m#Use the built-in open() function.\u001b[39;00m\n\u001b[1;32m----> 3\u001b[0m f \u001b[38;5;241m=\u001b[39m \u001b[38;5;28mopen\u001b[39m(\u001b[38;5;124m\"\u001b[39m\u001b[38;5;124mexample.txt\u001b[39m\u001b[38;5;124m\"\u001b[39m)\n",
      "File \u001b[1;32mD:\\anaconda\\Lib\\site-packages\\IPython\\core\\interactiveshell.py:310\u001b[0m, in \u001b[0;36m_modified_open\u001b[1;34m(file, *args, **kwargs)\u001b[0m\n\u001b[0;32m    303\u001b[0m \u001b[38;5;28;01mif\u001b[39;00m file \u001b[38;5;129;01min\u001b[39;00m {\u001b[38;5;241m0\u001b[39m, \u001b[38;5;241m1\u001b[39m, \u001b[38;5;241m2\u001b[39m}:\n\u001b[0;32m    304\u001b[0m     \u001b[38;5;28;01mraise\u001b[39;00m \u001b[38;5;167;01mValueError\u001b[39;00m(\n\u001b[0;32m    305\u001b[0m         \u001b[38;5;124mf\u001b[39m\u001b[38;5;124m\"\u001b[39m\u001b[38;5;124mIPython won\u001b[39m\u001b[38;5;124m'\u001b[39m\u001b[38;5;124mt let you open fd=\u001b[39m\u001b[38;5;132;01m{\u001b[39;00mfile\u001b[38;5;132;01m}\u001b[39;00m\u001b[38;5;124m by default \u001b[39m\u001b[38;5;124m\"\u001b[39m\n\u001b[0;32m    306\u001b[0m         \u001b[38;5;124m\"\u001b[39m\u001b[38;5;124mas it is likely to crash IPython. If you know what you are doing, \u001b[39m\u001b[38;5;124m\"\u001b[39m\n\u001b[0;32m    307\u001b[0m         \u001b[38;5;124m\"\u001b[39m\u001b[38;5;124myou can use builtins\u001b[39m\u001b[38;5;124m'\u001b[39m\u001b[38;5;124m open.\u001b[39m\u001b[38;5;124m\"\u001b[39m\n\u001b[0;32m    308\u001b[0m     )\n\u001b[1;32m--> 310\u001b[0m \u001b[38;5;28;01mreturn\u001b[39;00m io_open(file, \u001b[38;5;241m*\u001b[39margs, \u001b[38;5;241m*\u001b[39m\u001b[38;5;241m*\u001b[39mkwargs)\n",
      "\u001b[1;31mFileNotFoundError\u001b[0m: [Errno 2] No such file or directory: 'example.txt'"
     ]
    }
   ],
   "source": [
    "#Use the built-in open() function.\n",
    "\n",
    "f = open(\"example.txt\") # default mode is \"r\" (read, text mode)"
   ]
  },
  {
   "cell_type": "code",
   "execution_count": null,
   "id": "52724971-4fe0-492c-a72c-e7ee612ef580",
   "metadata": {},
   "outputs": [],
   "source": [
    "4. List different file modes available in Python."
   ]
  },
  {
   "cell_type": "markdown",
   "id": "dfef84ec-d87d-4f60-85f8-3c30b495a3cf",
   "metadata": {},
   "source": [
    "\"r\" → Read (default, error if file doesn’t exist)\n",
    "\n",
    "\"w\" → Write (creates new file or overwrites existing)\n",
    "\n",
    "\"a\" → Append (adds data to end of file)\n",
    "\n",
    "\"x\" → Create (error if file exists)\n",
    "\n",
    "\"b\" → Binary mode (e.g., \"rb\n",
    "\n",
    "\"r+\" → Read & write\", \"wb\")"
   ]
  },
  {
   "cell_type": "code",
   "execution_count": null,
   "id": "1d4db4fa-db3f-4f81-b0db-59a0ef694efa",
   "metadata": {},
   "outputs": [],
   "source": [
    "5. Create a file in \"Create\" mode and write content \"Good Afternoon\" to it"
   ]
  },
  {
   "cell_type": "code",
   "execution_count": 4,
   "id": "d08e613b-afee-41f0-ba80-d12c18d7d068",
   "metadata": {},
   "outputs": [],
   "source": [
    "f=open(\"example.txt\",\"w\")\n",
    "f.write(\"Good Afternoon\")\n",
    "f.close()"
   ]
  },
  {
   "cell_type": "code",
   "execution_count": null,
   "id": "a0ecbcb9-360b-4fa7-bcd3-da8c765e6090",
   "metadata": {},
   "outputs": [],
   "source": [
    "6. Explain difference between opening a file in \"Write\" mode and \"append\" mode with an example"
   ]
  },
  {
   "cell_type": "code",
   "execution_count": 6,
   "id": "9f8044a4-97f1-417f-8081-cff4c4ebc0a8",
   "metadata": {},
   "outputs": [],
   "source": [
    "#write mode creates new file if its not present and overwrites the content of already present file\n",
    "f=open(\"example.txt\",\"w\")\n",
    "f.write(\"How are you?\")\n",
    "f.close()"
   ]
  },
  {
   "cell_type": "code",
   "execution_count": 8,
   "id": "01602244-6afd-46ac-8ac2-872e3cb9eb01",
   "metadata": {},
   "outputs": [],
   "source": [
    "#append mode creates a file if not present and updates the content by adding new content to already present file\n",
    "f=open(\"example.txt\",\"a\")\n",
    "f.write(\"Good Afternoon\")\n",
    "f.write(\"\\nGood Afternoon\")\n",
    "f.write(\"\\nGood Afternoon\")\n",
    "f.close()"
   ]
  },
  {
   "cell_type": "code",
   "execution_count": null,
   "id": "693d074f-416c-4d05-b543-c9c6c4ed7d9d",
   "metadata": {},
   "outputs": [],
   "source": [
    "7. What is the difference between read(), readline(), and readlines()?"
   ]
  },
  {
   "cell_type": "code",
   "execution_count": 14,
   "id": "dff5fcd5-6c1f-43dc-9724-ad405f272d24",
   "metadata": {},
   "outputs": [
    {
     "name": "stdout",
     "output_type": "stream",
     "text": [
      "How are you?Good AfternoonGood Afternoon\n",
      "Good Afternoon\n",
      "Good Afternoon\n"
     ]
    }
   ],
   "source": [
    "f=open(\"example.txt\",\"r\")\n",
    "print(f.read()) #prints/ reads entire content of the file as a string\n",
    "f.close()"
   ]
  },
  {
   "cell_type": "code",
   "execution_count": 16,
   "id": "a686a9e0-a177-414d-874e-524962704f69",
   "metadata": {},
   "outputs": [
    {
     "name": "stdout",
     "output_type": "stream",
     "text": [
      "How are you?Good AfternoonGood Afternoon\n",
      "\n"
     ]
    }
   ],
   "source": [
    "f=open(\"example.txt\",\"r\")\n",
    "print(f.readline()) #prints/ reads one line\n",
    "f.close()"
   ]
  },
  {
   "cell_type": "code",
   "execution_count": 18,
   "id": "45e46c47-a3fc-4d6f-ae4b-ab482d4f93cc",
   "metadata": {},
   "outputs": [
    {
     "name": "stdout",
     "output_type": "stream",
     "text": [
      "['How are you?Good AfternoonGood Afternoon\\n', 'Good Afternoon\\n', 'Good Afternoon']\n"
     ]
    }
   ],
   "source": [
    "f=open(\"example.txt\",\"r\")\n",
    "print(f.readlines()) #prints/ reads lines in the form of a list\n",
    "f.close()"
   ]
  },
  {
   "cell_type": "code",
   "execution_count": null,
   "id": "67b5f652-7214-4d81-9757-8a47e6362f1d",
   "metadata": {},
   "outputs": [
    {
     "name": "stdout",
     "output_type": "stream",
     "text": [
      "5\n",
      "re you?Good AfternoonGood Afternoon\n",
      "Good Afternoon\n",
      "Good Afternoon\n"
     ]
    }
   ],
   "source": [
    "f=open(\"example.txt\",\"r+\")  #allows to open a file for reading & writing\n",
    "print(f.write(\"Hello\"))\n",
    "print(f.read())\n",
    "f.close()"
   ]
  },
  {
   "cell_type": "code",
   "execution_count": null,
   "id": "cb51e7dc-3ffc-4a21-9cfe-f0811dcadd01",
   "metadata": {},
   "outputs": [],
   "source": [
    "8.Why should we use the with statement while working with files?"
   ]
  },
  {
   "cell_type": "markdown",
   "id": "3ad9fc40-ef1d-446e-b4e8-c81f55ba2587",
   "metadata": {},
   "source": [
    "* It closes the file automatically after the use\n",
    "* Prevents memory leakage & file corruption"
   ]
  },
  {
   "cell_type": "code",
   "execution_count": 22,
   "id": "63b6f9e7-1ab9-49db-9724-d056459cd532",
   "metadata": {},
   "outputs": [],
   "source": [
    "with open(\"example.txt\",\"w\") as f:\n",
    "    f.write(\"Thanks\")"
   ]
  },
  {
   "cell_type": "code",
   "execution_count": 23,
   "id": "bd56e444-1be5-40ef-8714-b7446339e502",
   "metadata": {},
   "outputs": [],
   "source": [
    "with open(\"example.txt\", \"r\") as f:\n",
    "    data = f.read()"
   ]
  },
  {
   "cell_type": "code",
   "execution_count": null,
   "id": "af3348f0-17f6-4e6d-ac30-914b7ef28310",
   "metadata": {},
   "outputs": [],
   "source": [
    "9. How do you check current working directory using OS library?"
   ]
  },
  {
   "cell_type": "code",
   "execution_count": 25,
   "id": "1c3c8a98-b2e9-4f38-9ae7-2cb299824b5d",
   "metadata": {},
   "outputs": [
    {
     "data": {
      "text/plain": [
       "'C:\\\\Users\\\\Datamites\\\\Documents\\\\datamites'"
      ]
     },
     "execution_count": 25,
     "metadata": {},
     "output_type": "execute_result"
    }
   ],
   "source": [
    "import os\n",
    "os.getcwd()"
   ]
  },
  {
   "cell_type": "code",
   "execution_count": null,
   "id": "85b34d2b-e4fc-470a-80b2-49d04c3bc06e",
   "metadata": {},
   "outputs": [],
   "source": [
    "10. How can you check if a file exists before opening it?"
   ]
  },
  {
   "cell_type": "code",
   "execution_count": 27,
   "id": "8eed94f0-8848-44c1-a042-1e6a40506e3f",
   "metadata": {},
   "outputs": [
    {
     "name": "stdout",
     "output_type": "stream",
     "text": [
      "File exists\n"
     ]
    }
   ],
   "source": [
    "if os.path.exists(\"example.txt\"):\n",
    "    print(\"File exists\")\n",
    "else:\n",
    "    print(\"File does not exist\")"
   ]
  },
  {
   "cell_type": "code",
   "execution_count": null,
   "id": "838ba461-ab21-46a6-a8b1-b00e08666813",
   "metadata": {},
   "outputs": [],
   "source": [
    "11. Explain the difference between relative and absolute file paths."
   ]
  },
  {
   "cell_type": "code",
   "execution_count": null,
   "id": "b46bf86f-f978-4cac-a4d6-9b3f24459304",
   "metadata": {},
   "outputs": [],
   "source": [
    "Absolute path → Full path from root (e.g., C:/Users/John/file.txt).\n",
    "\n",
    "Relative path → Path relative to current working directory (e.g., \"file.txt\")."
   ]
  },
  {
   "cell_type": "code",
   "execution_count": null,
   "id": "728194c0-78b8-4642-8f96-4dbd63091fa1",
   "metadata": {},
   "outputs": [],
   "source": [
    "12. How to list all sub-directories and folders from current directory"
   ]
  },
  {
   "cell_type": "code",
   "execution_count": 28,
   "id": "f5a26588-b949-4ec6-954f-11d24fb8a26f",
   "metadata": {},
   "outputs": [
    {
     "data": {
      "text/plain": [
       "['.ipynb_checkpoints',\n",
       " 'example.txt',\n",
       " 'File management in Python.ipynb',\n",
       " 'Python 1.ipynb',\n",
       " 'PYTHON.ipynb',\n",
       " 'SVM']"
      ]
     },
     "execution_count": 28,
     "metadata": {},
     "output_type": "execute_result"
    }
   ],
   "source": [
    "os.listdir()"
   ]
  },
  {
   "cell_type": "code",
   "execution_count": null,
   "id": "a9a7429e-289c-455d-ae1a-325b6acce4f2",
   "metadata": {},
   "outputs": [],
   "source": [
    "13. How to change current directory"
   ]
  },
  {
   "cell_type": "code",
   "execution_count": 29,
   "id": "155d8592-27c7-41bd-bfe0-1af6383bfa70",
   "metadata": {},
   "outputs": [],
   "source": [
    "os.chdir(\"C:/New Folder\")"
   ]
  },
  {
   "cell_type": "code",
   "execution_count": 31,
   "id": "9297c20e-5f0d-4e3b-b7e7-4214ddf02a66",
   "metadata": {},
   "outputs": [
    {
     "data": {
      "text/plain": [
       "'C:\\\\New Folder'"
      ]
     },
     "execution_count": 31,
     "metadata": {},
     "output_type": "execute_result"
    }
   ],
   "source": [
    "os.getcwd()"
   ]
  },
  {
   "cell_type": "code",
   "execution_count": null,
   "id": "25d68bb6-d1c1-4a57-bc63-f7e4d532065b",
   "metadata": {},
   "outputs": [],
   "source": [
    "14. How to create a new directory?"
   ]
  },
  {
   "cell_type": "code",
   "execution_count": 32,
   "id": "55bb0919-fc02-4bfa-9ed1-18a13c074829",
   "metadata": {},
   "outputs": [],
   "source": [
    "os.mkdir(\"Hello\")"
   ]
  },
  {
   "cell_type": "code",
   "execution_count": 33,
   "id": "01c476a0-602f-4cb1-bad7-a7d9d3ecc4f7",
   "metadata": {},
   "outputs": [
    {
     "data": {
      "text/plain": [
       "['Hello', 'py_log.log', 'sample.txt']"
      ]
     },
     "execution_count": 33,
     "metadata": {},
     "output_type": "execute_result"
    }
   ],
   "source": [
    "os.listdir()"
   ]
  },
  {
   "cell_type": "code",
   "execution_count": null,
   "id": "98afd11d-1698-4959-bea0-a43aab1853d3",
   "metadata": {},
   "outputs": [],
   "source": [
    "15. How to remove/delete a directory?"
   ]
  },
  {
   "cell_type": "code",
   "execution_count": 34,
   "id": "d99ea310-552d-4f4f-878b-03ad2144f13b",
   "metadata": {},
   "outputs": [],
   "source": [
    "os.rmdir(\"Hello\")"
   ]
  },
  {
   "cell_type": "code",
   "execution_count": 35,
   "id": "b0b8020f-3802-4db6-8b13-f5dc084f5fe6",
   "metadata": {},
   "outputs": [
    {
     "data": {
      "text/plain": [
       "['py_log.log', 'sample.txt']"
      ]
     },
     "execution_count": 35,
     "metadata": {},
     "output_type": "execute_result"
    }
   ],
   "source": [
    "os.listdir()"
   ]
  },
  {
   "cell_type": "code",
   "execution_count": null,
   "id": "82235f78-4e3e-4dc4-b6d4-342e5ac2fd51",
   "metadata": {},
   "outputs": [],
   "source": [
    "16. How to Handle Large Datasets/files efficiently?"
   ]
  },
  {
   "cell_type": "markdown",
   "id": "84939786-c8b5-4d0e-898b-bf5e3a4fee2c",
   "metadata": {},
   "source": [
    "* Many datasets are too large to fit into memory.\n",
    "* File handling lets us read data line by line or in chunks, making big data analysis possible."
   ]
  },
  {
   "cell_type": "code",
   "execution_count": 40,
   "id": "b5522175-878c-4822-b252-20d6794726d4",
   "metadata": {},
   "outputs": [],
   "source": [
    "with open(\"sample.txt\",\"w\") as f:\n",
    "    for line in range(0,1000):\n",
    "        f.write(f\"Line no.{line}\") # memory efficient"
   ]
  },
  {
   "cell_type": "code",
   "execution_count": 41,
   "id": "3c54439e-9183-4b4a-9207-7893ff0fff2a",
   "metadata": {},
   "outputs": [
    {
     "name": "stdout",
     "output_type": "stream",
     "text": [
      "Line no.0Line no.1Line no.2Line no.3Line no.4Line no.5Line no.6Line no.7Line no.8Line no.9Line no.10Line no.11Line no.12Line no.13Line no.14Line no.15Line no.16Line no.17Line no.18Line no.19Line no.20Line no.21Line no.22Line no.23Line no.24Line no.25Line no.26Line no.27Line no.28Line no.29Line no.30Line no.31Line no.32Line no.33Line no.34Line no.35Line no.36Line no.37Line no.38Line no.39Line no.40Line no.41Line no.42Line no.43Line no.44Line no.45Line no.46Line no.47Line no.48Line no.49Line no.50Line no.51Line no.52Line no.53Line no.54Line no.55Line no.56Line no.57Line no.58Line no.59Line no.60Line no.61Line no.62Line no.63Line no.64Line no.65Line no.66Line no.67Line no.68Line no.69Line no.70Line no.71Line no.72Line no.73Line no.74Line no.75Line no.76Line no.77Line no.78Line no.79Line no.80Line no.81Line no.82Line no.83Line no.84Line no.85Line no.86Line no.87Line no.88Line no.89Line no.90Line no.91Line no.92Line no.93Line no.94Line no.95Line no.96Line no.97Line no.98Line no.99Line no.100Line no.101Line no.102Line no.103Line no.104Line no.105Line no.106Line no.107Line no.108Line no.109Line no.110Line no.111Line no.112Line no.113Line no.114Line no.115Line no.116Line no.117Line no.118Line no.119Line no.120Line no.121Line no.122Line no.123Line no.124Line no.125Line no.126Line no.127Line no.128Line no.129Line no.130Line no.131Line no.132Line no.133Line no.134Line no.135Line no.136Line no.137Line no.138Line no.139Line no.140Line no.141Line no.142Line no.143Line no.144Line no.145Line no.146Line no.147Line no.148Line no.149Line no.150Line no.151Line no.152Line no.153Line no.154Line no.155Line no.156Line no.157Line no.158Line no.159Line no.160Line no.161Line no.162Line no.163Line no.164Line no.165Line no.166Line no.167Line no.168Line no.169Line no.170Line no.171Line no.172Line no.173Line no.174Line no.175Line no.176Line no.177Line no.178Line no.179Line no.180Line no.181Line no.182Line no.183Line no.184Line no.185Line no.186Line no.187Line no.188Line no.189Line no.190Line no.191Line no.192Line no.193Line no.194Line no.195Line no.196Line no.197Line no.198Line no.199Line no.200Line no.201Line no.202Line no.203Line no.204Line no.205Line no.206Line no.207Line no.208Line no.209Line no.210Line no.211Line no.212Line no.213Line no.214Line no.215Line no.216Line no.217Line no.218Line no.219Line no.220Line no.221Line no.222Line no.223Line no.224Line no.225Line no.226Line no.227Line no.228Line no.229Line no.230Line no.231Line no.232Line no.233Line no.234Line no.235Line no.236Line no.237Line no.238Line no.239Line no.240Line no.241Line no.242Line no.243Line no.244Line no.245Line no.246Line no.247Line no.248Line no.249Line no.250Line no.251Line no.252Line no.253Line no.254Line no.255Line no.256Line no.257Line no.258Line no.259Line no.260Line no.261Line no.262Line no.263Line no.264Line no.265Line no.266Line no.267Line no.268Line no.269Line no.270Line no.271Line no.272Line no.273Line no.274Line no.275Line no.276Line no.277Line no.278Line no.279Line no.280Line no.281Line no.282Line no.283Line no.284Line no.285Line no.286Line no.287Line no.288Line no.289Line no.290Line no.291Line no.292Line no.293Line no.294Line no.295Line no.296Line no.297Line no.298Line no.299Line no.300Line no.301Line no.302Line no.303Line no.304Line no.305Line no.306Line no.307Line no.308Line no.309Line no.310Line no.311Line no.312Line no.313Line no.314Line no.315Line no.316Line no.317Line no.318Line no.319Line no.320Line no.321Line no.322Line no.323Line no.324Line no.325Line no.326Line no.327Line no.328Line no.329Line no.330Line no.331Line no.332Line no.333Line no.334Line no.335Line no.336Line no.337Line no.338Line no.339Line no.340Line no.341Line no.342Line no.343Line no.344Line no.345Line no.346Line no.347Line no.348Line no.349Line no.350Line no.351Line no.352Line no.353Line no.354Line no.355Line no.356Line no.357Line no.358Line no.359Line no.360Line no.361Line no.362Line no.363Line no.364Line no.365Line no.366Line no.367Line no.368Line no.369Line no.370Line no.371Line no.372Line no.373Line no.374Line no.375Line no.376Line no.377Line no.378Line no.379Line no.380Line no.381Line no.382Line no.383Line no.384Line no.385Line no.386Line no.387Line no.388Line no.389Line no.390Line no.391Line no.392Line no.393Line no.394Line no.395Line no.396Line no.397Line no.398Line no.399Line no.400Line no.401Line no.402Line no.403Line no.404Line no.405Line no.406Line no.407Line no.408Line no.409Line no.410Line no.411Line no.412Line no.413Line no.414Line no.415Line no.416Line no.417Line no.418Line no.419Line no.420Line no.421Line no.422Line no.423Line no.424Line no.425Line no.426Line no.427Line no.428Line no.429Line no.430Line no.431Line no.432Line no.433Line no.434Line no.435Line no.436Line no.437Line no.438Line no.439Line no.440Line no.441Line no.442Line no.443Line no.444Line no.445Line no.446Line no.447Line no.448Line no.449Line no.450Line no.451Line no.452Line no.453Line no.454Line no.455Line no.456Line no.457Line no.458Line no.459Line no.460Line no.461Line no.462Line no.463Line no.464Line no.465Line no.466Line no.467Line no.468Line no.469Line no.470Line no.471Line no.472Line no.473Line no.474Line no.475Line no.476Line no.477Line no.478Line no.479Line no.480Line no.481Line no.482Line no.483Line no.484Line no.485Line no.486Line no.487Line no.488Line no.489Line no.490Line no.491Line no.492Line no.493Line no.494Line no.495Line no.496Line no.497Line no.498Line no.499Line no.500Line no.501Line no.502Line no.503Line no.504Line no.505Line no.506Line no.507Line no.508Line no.509Line no.510Line no.511Line no.512Line no.513Line no.514Line no.515Line no.516Line no.517Line no.518Line no.519Line no.520Line no.521Line no.522Line no.523Line no.524Line no.525Line no.526Line no.527Line no.528Line no.529Line no.530Line no.531Line no.532Line no.533Line no.534Line no.535Line no.536Line no.537Line no.538Line no.539Line no.540Line no.541Line no.542Line no.543Line no.544Line no.545Line no.546Line no.547Line no.548Line no.549Line no.550Line no.551Line no.552Line no.553Line no.554Line no.555Line no.556Line no.557Line no.558Line no.559Line no.560Line no.561Line no.562Line no.563Line no.564Line no.565Line no.566Line no.567Line no.568Line no.569Line no.570Line no.571Line no.572Line no.573Line no.574Line no.575Line no.576Line no.577Line no.578Line no.579Line no.580Line no.581Line no.582Line no.583Line no.584Line no.585Line no.586Line no.587Line no.588Line no.589Line no.590Line no.591Line no.592Line no.593Line no.594Line no.595Line no.596Line no.597Line no.598Line no.599Line no.600Line no.601Line no.602Line no.603Line no.604Line no.605Line no.606Line no.607Line no.608Line no.609Line no.610Line no.611Line no.612Line no.613Line no.614Line no.615Line no.616Line no.617Line no.618Line no.619Line no.620Line no.621Line no.622Line no.623Line no.624Line no.625Line no.626Line no.627Line no.628Line no.629Line no.630Line no.631Line no.632Line no.633Line no.634Line no.635Line no.636Line no.637Line no.638Line no.639Line no.640Line no.641Line no.642Line no.643Line no.644Line no.645Line no.646Line no.647Line no.648Line no.649Line no.650Line no.651Line no.652Line no.653Line no.654Line no.655Line no.656Line no.657Line no.658Line no.659Line no.660Line no.661Line no.662Line no.663Line no.664Line no.665Line no.666Line no.667Line no.668Line no.669Line no.670Line no.671Line no.672Line no.673Line no.674Line no.675Line no.676Line no.677Line no.678Line no.679Line no.680Line no.681Line no.682Line no.683Line no.684Line no.685Line no.686Line no.687Line no.688Line no.689Line no.690Line no.691Line no.692Line no.693Line no.694Line no.695Line no.696Line no.697Line no.698Line no.699Line no.700Line no.701Line no.702Line no.703Line no.704Line no.705Line no.706Line no.707Line no.708Line no.709Line no.710Line no.711Line no.712Line no.713Line no.714Line no.715Line no.716Line no.717Line no.718Line no.719Line no.720Line no.721Line no.722Line no.723Line no.724Line no.725Line no.726Line no.727Line no.728Line no.729Line no.730Line no.731Line no.732Line no.733Line no.734Line no.735Line no.736Line no.737Line no.738Line no.739Line no.740Line no.741Line no.742Line no.743Line no.744Line no.745Line no.746Line no.747Line no.748Line no.749Line no.750Line no.751Line no.752Line no.753Line no.754Line no.755Line no.756Line no.757Line no.758Line no.759Line no.760Line no.761Line no.762Line no.763Line no.764Line no.765Line no.766Line no.767Line no.768Line no.769Line no.770Line no.771Line no.772Line no.773Line no.774Line no.775Line no.776Line no.777Line no.778Line no.779Line no.780Line no.781Line no.782Line no.783Line no.784Line no.785Line no.786Line no.787Line no.788Line no.789Line no.790Line no.791Line no.792Line no.793Line no.794Line no.795Line no.796Line no.797Line no.798Line no.799Line no.800Line no.801Line no.802Line no.803Line no.804Line no.805Line no.806Line no.807Line no.808Line no.809Line no.810Line no.811Line no.812Line no.813Line no.814Line no.815Line no.816Line no.817Line no.818Line no.819Line no.820Line no.821Line no.822Line no.823Line no.824Line no.825Line no.826Line no.827Line no.828Line no.829Line no.830Line no.831Line no.832Line no.833Line no.834Line no.835Line no.836Line no.837Line no.838Line no.839Line no.840Line no.841Line no.842Line no.843Line no.844Line no.845Line no.846Line no.847Line no.848Line no.849Line no.850Line no.851Line no.852Line no.853Line no.854Line no.855Line no.856Line no.857Line no.858Line no.859Line no.860Line no.861Line no.862Line no.863Line no.864Line no.865Line no.866Line no.867Line no.868Line no.869Line no.870Line no.871Line no.872Line no.873Line no.874Line no.875Line no.876Line no.877Line no.878Line no.879Line no.880Line no.881Line no.882Line no.883Line no.884Line no.885Line no.886Line no.887Line no.888Line no.889Line no.890Line no.891Line no.892Line no.893Line no.894Line no.895Line no.896Line no.897Line no.898Line no.899Line no.900Line no.901Line no.902Line no.903Line no.904Line no.905Line no.906Line no.907Line no.908Line no.909Line no.910Line no.911Line no.912Line no.913Line no.914Line no.915Line no.916Line no.917Line no.918Line no.919Line no.920Line no.921Line no.922Line no.923Line no.924Line no.925Line no.926Line no.927Line no.928Line no.929Line no.930Line no.931Line no.932Line no.933Line no.934Line no.935Line no.936Line no.937Line no.938Line no.939Line no.940Line no.941Line no.942Line no.943Line no.944Line no.945Line no.946Line no.947Line no.948Line no.949Line no.950Line no.951Line no.952Line no.953Line no.954Line no.955Line no.956Line no.957Line no.958Line no.959Line no.960Line no.961Line no.962Line no.963Line no.964Line no.965Line no.966Line no.967Line no.968Line no.969Line no.970Line no.971Line no.972Line no.973Line no.974Line no.975Line no.976Line no.977Line no.978Line no.979Line no.980Line no.981Line no.982Line no.983Line no.984Line no.985Line no.986Line no.987Line no.988Line no.989Line no.990Line no.991Line no.992Line no.993Line no.994Line no.995Line no.996Line no.997Line no.998Line no.999\n"
     ]
    }
   ],
   "source": [
    "with open(\"sample.txt\") as f:\n",
    "    for line in f:\n",
    "        print(line) # memory efficient"
   ]
  }
 ],
 "metadata": {
  "kernelspec": {
   "display_name": ".AIexpert",
   "language": "python",
   "name": "python3"
  },
  "language_info": {
   "codemirror_mode": {
    "name": "ipython",
    "version": 3
   },
   "file_extension": ".py",
   "mimetype": "text/x-python",
   "name": "python",
   "nbconvert_exporter": "python",
   "pygments_lexer": "ipython3",
   "version": "3.11.7"
  }
 },
 "nbformat": 4,
 "nbformat_minor": 5
}
