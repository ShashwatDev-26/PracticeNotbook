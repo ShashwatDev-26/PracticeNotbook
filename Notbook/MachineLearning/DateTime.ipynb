{
 "cells": [
  {
   "cell_type": "markdown",
   "id": "c0a1e786",
   "metadata": {},
   "source": [
    "## 1. Current date and time"
   ]
  },
  {
   "cell_type": "code",
   "execution_count": 3,
   "id": "ab3c475d",
   "metadata": {},
   "outputs": [
    {
     "name": "stdout",
     "output_type": "stream",
     "text": [
      "2025-09-14 23:24:21.060020\n"
     ]
    }
   ],
   "source": [
    "from datetime import datetime\n",
    "print(datetime.now())"
   ]
  },
  {
   "cell_type": "markdown",
   "id": "34618e16",
   "metadata": {},
   "source": [
    "## 2. Calculate the difference of old date and Today's date "
   ]
  },
  {
   "cell_type": "code",
   "execution_count": 25,
   "id": "3b8c6ec3",
   "metadata": {},
   "outputs": [
    {
     "name": "stdout",
     "output_type": "stream",
     "text": [
      "365\n"
     ]
    }
   ],
   "source": [
    "from datetime import datetime,date\n",
    "oldDate = date(2024,9,14)\n",
    "todayDate = datetime.today().date()\n",
    "print((todayDate-oldDate).days)"
   ]
  },
  {
   "cell_type": "markdown",
   "id": "60bced74",
   "metadata": {},
   "source": []
  }
 ],
 "metadata": {
  "kernelspec": {
   "display_name": "base",
   "language": "python",
   "name": "python3"
  },
  "language_info": {
   "codemirror_mode": {
    "name": "ipython",
    "version": 3
   },
   "file_extension": ".py",
   "mimetype": "text/x-python",
   "name": "python",
   "nbconvert_exporter": "python",
   "pygments_lexer": "ipython3",
   "version": "3.11.7"
  }
 },
 "nbformat": 4,
 "nbformat_minor": 5
}
