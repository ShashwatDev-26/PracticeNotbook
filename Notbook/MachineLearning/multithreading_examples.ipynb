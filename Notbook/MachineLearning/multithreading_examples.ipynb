{
 "cells": [
  {
   "cell_type": "markdown",
   "id": "6e7700f2",
   "metadata": {},
   "source": [
    "# Multithreading in Python\n",
    "This notebook contains 10 examples of multithreading from basic to advanced."
   ]
  },
  {
   "cell_type": "markdown",
   "id": "03d68a3c",
   "metadata": {},
   "source": [
    "## 1. Basic Thread Creation\n",
    "This example shows how to create and run a simple thread in Python."
   ]
  },
  {
   "cell_type": "code",
   "execution_count": 7,
   "id": "d1aa37c6",
   "metadata": {},
   "outputs": [
    {
     "name": "stdout",
     "output_type": "stream",
     "text": [
      "Hello from thread\n"
     ]
    }
   ],
   "source": [
    "import threading\n",
    "\n",
    "def task():\n",
    "    print(\"Hello from thread\")\n",
    "\n",
    "# Create a thread\n",
    "t = threading.Thread(target=task)\n",
    "t.start()\n",
    "t.join()"
   ]
  },
  {
   "cell_type": "markdown",
   "id": "31698406",
   "metadata": {},
   "source": [
    "## 2. Multiple Threads Running\n",
    "This example launches multiple threads simultaneously."
   ]
  },
  {
   "cell_type": "code",
   "execution_count": 8,
   "id": "ee658afb",
   "metadata": {},
   "outputs": [
    {
     "name": "stdout",
     "output_type": "stream",
     "text": [
      "Thread 0 is working\n",
      "Thread 1 is working\n",
      "Thread 2 is working\n",
      "Thread 3 is working\n",
      "Thread 4 is working\n"
     ]
    }
   ],
   "source": [
    "import threading\n",
    "\n",
    "def worker(num):\n",
    "    print(f\"Thread {num} is working\")\n",
    "\n",
    "threads = []\n",
    "for i in range(5):\n",
    "    t = threading.Thread(target=worker, args=(i,))\n",
    "    threads.append(t)\n",
    "    t.start()\n",
    "\n",
    "for t in threads:\n",
    "    t.join()"
   ]
  },
  {
   "cell_type": "markdown",
   "id": "a099af93",
   "metadata": {},
   "source": [
    "## 3. Using time.sleep to Simulate Work\n",
    "Simulates long-running tasks using `time.sleep`."
   ]
  },
  {
   "cell_type": "code",
   "execution_count": null,
   "id": "048ca010",
   "metadata": {},
   "outputs": [
    {
     "name": "stdout",
     "output_type": "stream",
     "text": [
      ">>>>>>>>>>>>>>>>>>>>.wothout Theading>>>>>>>>>>>>>>>>>>>>>>>>>>>>>>>>>>>>\n",
      "Task-1 started finish at 2\n",
      "Task-1 finished\n",
      "Task-2 started finish at 2\n",
      "Task-2 finished\n",
      ">>>>>>>>>>>>>>>>>>>>_with Theading_>>>>>>>>>>>>>>>>>>>>>>>>>>>>>>>>>>>>\n",
      "Task-1 started finish at 5\n",
      "Task-2 started finish at 3\n"
     ]
    },
    {
     "name": "stdout",
     "output_type": "stream",
     "text": [
      "Task-2 finished\n",
      "Task-1 finished\n"
     ]
    }
   ],
   "source": [
    "import threading, time\n",
    "\n",
    "def task(name,timer=2):\n",
    "    print(f\"{name} started finish at {timer}\")\n",
    "    time.sleep(timer)\n",
    "    print(f\"{name} finished\")\n",
    "print(\">>>>>>>>>>>>>>>>>>>>.wothout Theading>>>>>>>>>>>>>>>>>>>>>>>>>>>>>>>>>>>>\")\n",
    "task(\"Task-1\")\n",
    "task(\"Task-2\")\n",
    "\"\"\"\n",
    "        output\n",
    "Task-1 started\n",
    "Task-1 finished\n",
    "Task-2 started\n",
    "Task-2 finished\n",
    "\n",
    "\"\"\"\n",
    "print(\">>>>>>>>>>>>>>>>>>>>_with Theading_>>>>>>>>>>>>>>>>>>>>>>>>>>>>>>>>>>>>\")\n",
    "t1 = threading.Thread(target=task, args=(\"Task-1\",5,))\n",
    "t2 = threading.Thread(target=task, args=(\"Task-2\",3,))\n",
    "t1.start()\n",
    "t2.start()\n",
    "# t1.join(); t2.join()"
   ]
  },
  {
   "cell_type": "markdown",
   "id": "d1ad2510",
   "metadata": {},
   "source": [
    "## 4. Daemon Threads\n",
    "Daemon threads run in the background and are killed when the main program exits."
   ]
  },
  {
   "cell_type": "code",
   "execution_count": null,
   "id": "10f34689",
   "metadata": {},
   "outputs": [],
   "source": [
    "import threading, time\n",
    "\n",
    "def background_task():\n",
    "    while True:\n",
    "        print(\"Running in background...\")\n",
    "        time.sleep(1)\n",
    "\n",
    "t = threading.Thread(target=background_task, daemon=True)\n",
    "t.start()\n",
    "time.sleep(3)\n",
    "print(\"Main thread finished (background thread killed)\")"
   ]
  },
  {
   "cell_type": "markdown",
   "id": "8f57d7c8",
   "metadata": {},
   "source": [
    "## 5. Thread Synchronization with Lock\n",
    "Using a Lock to prevent race conditions when multiple threads access shared data."
   ]
  },
  {
   "cell_type": "code",
   "execution_count": null,
   "id": "2297078e",
   "metadata": {},
   "outputs": [],
   "source": [
    "import threading\n",
    "\n",
    "lock = threading.Lock()\n",
    "counter = 0\n",
    "\n",
    "def increment():\n",
    "    global counter\n",
    "    for _ in range(100000):\n",
    "        with lock:  # prevents race condition\n",
    "            counter += 1\n",
    "\n",
    "threads = [threading.Thread(target=increment) for _ in range(5)]\n",
    "for t in threads: t.start()\n",
    "for t in threads: t.join()\n",
    "\n",
    "print(\"Final counter:\", counter)"
   ]
  },
  {
   "cell_type": "markdown",
   "id": "e287b86e",
   "metadata": {},
   "source": [
    "## 6. Using Queue for Thread Communication\n",
    "Threads communicate safely using a `queue.Queue`."
   ]
  },
  {
   "cell_type": "code",
   "execution_count": null,
   "id": "475a8ddc",
   "metadata": {},
   "outputs": [],
   "source": [
    "import threading, queue, time\n",
    "\n",
    "def worker(q):\n",
    "    while not q.empty():\n",
    "        item = q.get()\n",
    "        print(f\"Processing {item}\")\n",
    "        time.sleep(1)\n",
    "        q.task_done()\n",
    "\n",
    "q = queue.Queue()\n",
    "for i in range(5):\n",
    "    q.put(i)\n",
    "\n",
    "for _ in range(2):\n",
    "    threading.Thread(target=worker, args=(q,)).start()\n",
    "\n",
    "q.join()\n",
    "print(\"All tasks completed\")"
   ]
  },
  {
   "cell_type": "markdown",
   "id": "ec736f9b",
   "metadata": {},
   "source": [
    "## 7. Subclassing Thread\n",
    "You can subclass `threading.Thread` to define custom behavior."
   ]
  },
  {
   "cell_type": "code",
   "execution_count": null,
   "id": "8c0e8f94",
   "metadata": {},
   "outputs": [],
   "source": [
    "import threading, time\n",
    "\n",
    "class MyThread(threading.Thread):\n",
    "    def __init__(self, name):\n",
    "        super().__init__()\n",
    "        self.name = name\n",
    "\n",
    "    def run(self):\n",
    "        print(f\"{self.name} starting\")\n",
    "        time.sleep(2)\n",
    "        print(f\"{self.name} done\")\n",
    "\n",
    "t1 = MyThread(\"Worker-1\")\n",
    "t2 = MyThread(\"Worker-2\")\n",
    "t1.start(); t2.start()\n",
    "t1.join(); t2.join()"
   ]
  },
  {
   "cell_type": "markdown",
   "id": "e3f74e5e",
   "metadata": {},
   "source": [
    "## 8. ThreadPool with concurrent.futures\n",
    "Using ThreadPoolExecutor for efficient thread management."
   ]
  },
  {
   "cell_type": "code",
   "execution_count": null,
   "id": "de7d88c4",
   "metadata": {},
   "outputs": [],
   "source": [
    "from concurrent.futures import ThreadPoolExecutor\n",
    "import time\n",
    "\n",
    "def task(n):\n",
    "    time.sleep(1)\n",
    "    return f\"Task {n} done\"\n",
    "\n",
    "with ThreadPoolExecutor(max_workers=3) as executor:\n",
    "    results = executor.map(task, range(5))\n",
    "\n",
    "for r in results:\n",
    "    print(r)"
   ]
  },
  {
   "cell_type": "markdown",
   "id": "9ffd6633",
   "metadata": {},
   "source": [
    "## 9. Thread Event for Coordination\n",
    "An Event is useful for thread synchronization."
   ]
  },
  {
   "cell_type": "code",
   "execution_count": null,
   "id": "6a847b6b",
   "metadata": {},
   "outputs": [],
   "source": [
    "import threading, time\n",
    "\n",
    "event = threading.Event()\n",
    "\n",
    "def waiter():\n",
    "    print(\"Waiting for event...\")\n",
    "    event.wait()  # block until event is set\n",
    "    print(\"Event received!\")\n",
    "\n",
    "def setter():\n",
    "    time.sleep(3)\n",
    "    print(\"Setting event\")\n",
    "    event.set()\n",
    "\n",
    "threading.Thread(target=waiter).start()\n",
    "threading.Thread(target=setter).start()"
   ]
  },
  {
   "cell_type": "markdown",
   "id": "f3e61750",
   "metadata": {},
   "source": [
    "## 10. Producer-Consumer Problem\n",
    "A classic Producer-Consumer problem using threads and queue."
   ]
  },
  {
   "cell_type": "code",
   "execution_count": null,
   "id": "cd6c0691",
   "metadata": {},
   "outputs": [],
   "source": [
    "import threading, queue, time\n",
    "\n",
    "q = queue.Queue()\n",
    "\n",
    "def producer():\n",
    "    for i in range(5):\n",
    "        print(f\"Producing {i}\")\n",
    "        q.put(i)\n",
    "        time.sleep(1)\n",
    "\n",
    "def consumer():\n",
    "    while True:\n",
    "        item = q.get()\n",
    "        if item is None: break\n",
    "        print(f\"Consumed {item}\")\n",
    "        q.task_done()\n",
    "\n",
    "t1 = threading.Thread(target=producer)\n",
    "t2 = threading.Thread(target=consumer)\n",
    "t1.start(); t2.start()\n",
    "t1.join()\n",
    "q.put(None)  # signal consumer to stop\n",
    "t2.join()"
   ]
  }
 ],
 "metadata": {
  "kernelspec": {
   "display_name": "base",
   "language": "python",
   "name": "python3"
  },
  "language_info": {
   "codemirror_mode": {
    "name": "ipython",
    "version": 3
   },
   "file_extension": ".py",
   "mimetype": "text/x-python",
   "name": "python",
   "nbconvert_exporter": "python",
   "pygments_lexer": "ipython3",
   "version": "3.11.7"
  }
 },
 "nbformat": 4,
 "nbformat_minor": 5
}
