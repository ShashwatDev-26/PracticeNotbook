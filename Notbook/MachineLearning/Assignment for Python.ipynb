{
 "cells": [
  {
   "cell_type": "code",
   "execution_count": null,
   "metadata": {
    "id": "lEc1G18fTuYL"
   },
   "outputs": [],
   "source": [
    "1)Write a Python program to get the Python version you are using"
   ]
  },
  {
   "cell_type": "code",
   "execution_count": null,
   "metadata": {},
   "outputs": [
    {
     "name": "stdout",
     "output_type": "stream",
     "text": [
      "3.11.7 | packaged by Anaconda, Inc. | (main, Dec 15 2023, 18:05:47) [MSC v.1916 64 bit (AMD64)]\n"
     ]
    }
   ],
   "source": [
    "import sys\n",
    "print(sys.version)"
   ]
  },
  {
   "cell_type": "code",
   "execution_count": null,
   "metadata": {
    "id": "IsNBIMKfTuYM"
   },
   "outputs": [],
   "source": [
    "2)Write a Python program to display the current date and time"
   ]
  },
  {
   "cell_type": "code",
   "execution_count": 2,
   "metadata": {},
   "outputs": [
    {
     "name": "stdout",
     "output_type": "stream",
     "text": [
      "2025-08-25\n",
      "16:57:55.022178\n"
     ]
    }
   ],
   "source": [
    "from datetime import datetime as dt\n",
    "print(dt.now().date())\n",
    "print(dt.now().time())"
   ]
  },
  {
   "cell_type": "code",
   "execution_count": null,
   "metadata": {
    "id": "GQ4L6a2TTuYN"
   },
   "outputs": [],
   "source": [
    "3) Write a Python program which accepts the radius of a circle from the user and compute the area."
   ]
  },
  {
   "cell_type": "code",
   "execution_count": 3,
   "metadata": {},
   "outputs": [
    {
     "name": "stdout",
     "output_type": "stream",
     "text": [
      "50.24\n"
     ]
    }
   ],
   "source": [
    "\n",
    "def radius(x):\n",
    "  return 3.14 * pow(x,2)\n",
    "\n",
    "print(f\"{radius(4):.2f}\")"
   ]
  },
  {
   "cell_type": "code",
   "execution_count": null,
   "metadata": {
    "id": "6VKhAqj8TuYO"
   },
   "outputs": [],
   "source": [
    "4)Solve the expression. 5.2 + True + bool(-5) - 4 + 42//5 +bool(0) + False + int(5.9) + float('1')"
   ]
  },
  {
   "cell_type": "code",
   "execution_count": null,
   "metadata": {
    "id": "MU-GcAfwTuYO"
   },
   "outputs": [],
   "source": [
    "5)Write code to test whether the given number lies between 1 and 10"
   ]
  },
  {
   "cell_type": "code",
   "execution_count": 12,
   "metadata": {},
   "outputs": [
    {
     "name": "stdout",
     "output_type": "stream",
     "text": [
      "yes\n"
     ]
    }
   ],
   "source": [
    "def givenNumber(n):\n",
    "  if n<=10 or n>=1:\n",
    "    print(\"yes\")\n",
    "  else:\n",
    "    print(\"out of bound\")\n",
    "givenNumber(15)"
   ]
  },
  {
   "cell_type": "code",
   "execution_count": null,
   "metadata": {},
   "outputs": [
    {
     "name": "stdout",
     "output_type": "stream",
     "text": [
      "yes\n"
     ]
    }
   ],
   "source": [
    "def check(n):\n",
    "  if n >= 1 and n <= 10:\n",
    "    print(\"yes\")\n",
    "  else:\n",
    "    print(\"No\")\n",
    "check(4.5)"
   ]
  },
  {
   "cell_type": "code",
   "execution_count": null,
   "metadata": {
    "id": "LHraP9cgTuYP"
   },
   "outputs": [],
   "source": [
    "6)sum the numbers from 1 to 20 using for loop"
   ]
  },
  {
   "cell_type": "code",
   "execution_count": null,
   "metadata": {
    "id": "-Pba3W4iTuYP"
   },
   "outputs": [],
   "source": [
    "7)Display the numbers in reverse from 100 to 1"
   ]
  },
  {
   "cell_type": "code",
   "execution_count": null,
   "metadata": {
    "id": "fB5rb-IETuYP"
   },
   "outputs": [],
   "source": [
    "8)Display multiples of 2 from 10 to 50 using range"
   ]
  },
  {
   "cell_type": "code",
   "execution_count": null,
   "metadata": {
    "id": "FdZMrAkyTuYQ"
   },
   "outputs": [],
   "source": [
    "9)From the below nested dictionary, pick the word \"Bangalore\".\n",
    "d = {'1':'One','2':[1,{'Two':['Ch','Cbe','Salem',{'Place':[5,6,7,'Bangalore']}]}]}"
   ]
  },
  {
   "cell_type": "code",
   "execution_count": null,
   "metadata": {
    "id": "fsK2r2lITuYZ"
   },
   "outputs": [],
   "source": [
    "10)Use functions to return square of numbers from 2 to 5"
   ]
  },
  {
   "cell_type": "code",
   "execution_count": null,
   "metadata": {
    "id": "RwVix-tuTuYa"
   },
   "outputs": [],
   "source": [
    "11)Write a Python program which accepts a sequence of comma-separated numbers from user and generate a list and a\n",
    "tuple with those numbers"
   ]
  },
  {
   "cell_type": "code",
   "execution_count": null,
   "metadata": {
    "id": "c_Lz-EB2TuYa"
   },
   "outputs": [],
   "source": [
    "12) Write a Python program to display the first and last colors from the following list.\n",
    "color_list = [\"Red\",\"Green\",\"White\" ,\"Black\"]"
   ]
  },
  {
   "cell_type": "code",
   "execution_count": 82,
   "metadata": {},
   "outputs": [
    {
     "data": {
      "text/plain": [
       "['Red', 'Black']"
      ]
     },
     "execution_count": 82,
     "metadata": {},
     "output_type": "execute_result"
    }
   ],
   "source": [
    "color_list = [\"Red\",\"Green\",\"White\" ,\"Black\"]\n",
    "n = 0\n",
    "[color_list[n],color_list[len(color_list)-n-1]]"
   ]
  },
  {
   "cell_type": "code",
   "execution_count": null,
   "metadata": {
    "id": "UxONxEt-TuYa"
   },
   "outputs": [],
   "source": [
    "13)Write a Python program to calculate number of days between two dates.\n",
    "Sample dates : (2014, 7, 2), (2014, 7, 11)"
   ]
  },
  {
   "cell_type": "markdown",
   "metadata": {},
   "source": [
    "# Datetime Bsic"
   ]
  },
  {
   "cell_type": "code",
   "execution_count": 2,
   "metadata": {},
   "outputs": [
    {
     "name": "stdout",
     "output_type": "stream",
     "text": [
      "2025-08-25 17:25:19.165146\n",
      "2025-08-25\n",
      "2025 8 25\n",
      "2025-08-25 00:00:00\n",
      "Monday\n",
      "2025-09-04\n",
      "2025-08-18\n",
      "True\n",
      "25 August, 2025\n",
      "17:25:19\n"
     ]
    }
   ],
   "source": [
    "from datetime import datetime, date, timedelta\n",
    "\n",
    "# 1. Current date and time\n",
    "print(datetime.now())\n",
    "\n",
    "# 2. Today's date in YYYY-MM-DD format\n",
    "print(date.today().strftime(\"%Y-%m-%d\"))\n",
    "\n",
    "# 3. Extract year, month, and day\n",
    "today = date.today()\n",
    "print(today.year, today.month, today.day)\n",
    "\n",
    "# 4. Convert string to datetime\n",
    "d = datetime.strptime(\"2025-08-25\", \"%Y-%m-%d\")\n",
    "print(d)\n",
    "\n",
    "# 5. Weekday name of today\n",
    "print(today.strftime(\"%A\"))\n",
    "\n",
    "# 6. Add 10 days\n",
    "print(today + timedelta(days=10))\n",
    "\n",
    "# 7. Subtract 1 week\n",
    "print(today - timedelta(weeks=1))\n",
    "\n",
    "# 8. Check if 2024 is a leap year\n",
    "import calendar\n",
    "print(calendar.isleap(2024))\n",
    "\n",
    "# 9. Format date like \"25th August, 2025\"\n",
    "print(today.strftime(\"%d %B, %Y\"))\n",
    "\n",
    "# 10. Current time (HH:MM:SS)\n",
    "print(datetime.now().strftime(\"%H:%M:%S\"))\n"
   ]
  },
  {
   "cell_type": "markdown",
   "metadata": {},
   "source": [
    "# Intermediat Date time"
   ]
  },
  {
   "cell_type": "code",
   "execution_count": 3,
   "metadata": {},
   "outputs": [
    {
     "name": "stdout",
     "output_type": "stream",
     "text": [
      "24\n",
      "20453166.424469\n",
      "2025-08-25 11:56:06.424469+00:00\n",
      "1756122966\n",
      "2025-08-25 14:40:00\n",
      "2025-08-25 17:30:00\n",
      "2025-08-01 2025-08-31\n",
      "2025-08-01\n",
      "2025-08-02\n",
      "2025-08-03\n",
      "2025-08-04\n",
      "2025-08-05\n",
      "2025-08-06\n",
      "2025-08-07\n",
      "2025-08-08\n",
      "2025-08-09\n",
      "2025-08-10\n",
      "UTC: 2025-08-25 11:56:06.457375+00:00\n",
      "Kolkata: 2025-08-25 17:26:06.457375+05:30\n",
      "Days: 5 Hours: 0 Minutes: 33\n"
     ]
    }
   ],
   "source": [
    "# 11. Difference in days between two dates\n",
    "d1 = datetime.strptime(\"2025-08-01\", \"%Y-%m-%d\")\n",
    "d2 = datetime.strptime(\"2025-08-25\", \"%Y-%m-%d\")\n",
    "print((d2 - d1).days)\n",
    "\n",
    "# 12. Seconds since 2025-01-01 00:00:00\n",
    "start = datetime.strptime(\"2025-01-01 00:00:00\", \"%Y-%m-%d %H:%M:%S\")\n",
    "now = datetime.now()\n",
    "print((now - start).total_seconds())\n",
    "\n",
    "# 13. Current UTC time\n",
    "from datetime import timezone\n",
    "print(datetime.now(timezone.utc))\n",
    "\n",
    "# 14. Current datetime to UNIX timestamp\n",
    "print(int(datetime.now().timestamp()))\n",
    "\n",
    "# 15. Timestamp to datetime\n",
    "ts = 1756113000\n",
    "print(datetime.fromtimestamp(ts))\n",
    "\n",
    "# 16. Parse \"25-Aug-2025 17:30\"\n",
    "dt = datetime.strptime(\"25-Aug-2025 17:30\", \"%d-%b-%Y %H:%M\")\n",
    "print(dt)\n",
    "\n",
    "# 17. First and last day of current month\n",
    "today = date.today()\n",
    "first_day = today.replace(day=1)\n",
    "next_month = today.replace(day=28) + timedelta(days=4)\n",
    "last_day = next_month.replace(day=1) - timedelta(days=1)\n",
    "print(first_day, last_day)\n",
    "\n",
    "# 18. Generate all dates between two dates\n",
    "start = datetime.strptime(\"2025-08-01\", \"%Y-%m-%d\")\n",
    "end = datetime.strptime(\"2025-08-10\", \"%Y-%m-%d\")\n",
    "date_list = [start + timedelta(days=i) for i in range((end - start).days + 1)]\n",
    "for d in date_list:\n",
    "    print(d.date())\n",
    "\n",
    "# 19. Convert UTC to Asia/Kolkata timezone\n",
    "from zoneinfo import ZoneInfo\n",
    "utc_now = datetime.now(timezone.utc)\n",
    "kolkata_time = utc_now.astimezone(ZoneInfo(\"Asia/Kolkata\"))\n",
    "print(\"UTC:\", utc_now)\n",
    "print(\"Kolkata:\", kolkata_time)\n",
    "\n",
    "# 20. Reminder until given datetime\n",
    "target = datetime.strptime(\"2025-08-30 18:00:00\", \"%Y-%m-%d %H:%M:%S\")\n",
    "diff = target - datetime.now()\n",
    "print(\"Days:\", diff.days, \"Hours:\", diff.seconds//3600, \"Minutes:\", (diff.seconds//60)%60)\n"
   ]
  },
  {
   "cell_type": "markdown",
   "metadata": {},
   "source": [
    "# continue"
   ]
  },
  {
   "cell_type": "code",
   "execution_count": null,
   "metadata": {
    "id": "Yrigd224TuYa"
   },
   "outputs": [],
   "source": [
    "14)Write a Python program to get the difference between a given number and 17,\n",
    "if the number is greater than 17 return double the absolute difference"
   ]
  },
  {
   "cell_type": "code",
   "execution_count": null,
   "metadata": {
    "id": "X6t4moSuTuYb"
   },
   "outputs": [],
   "source": [
    "15)To check whather given element exists in list or not??\n",
    "list=[1,2,3,4,5,6,7,8,9,10]\n",
    "check if 9 and 12 are present in given list or not"
   ]
  },
  {
   "cell_type": "code",
   "execution_count": null,
   "metadata": {
    "id": "4yzIbcIiTuYb"
   },
   "outputs": [],
   "source": [
    "16)Write a function calculation() such that it can accept two variables and calculate the addition and subtraction of it.\n",
    "And also it must return both addition and subtraction in a single return call"
   ]
  },
  {
   "cell_type": "code",
   "execution_count": null,
   "metadata": {
    "id": "6LY4_qgfTuYb"
   },
   "outputs": [],
   "source": [
    "17)Create a function showEmployee() in such a way that it should accept employee name, and it’s salary and display both,\n",
    "and if the salary is missing in function call it should show it as 9000"
   ]
  },
  {
   "cell_type": "code",
   "execution_count": null,
   "metadata": {
    "id": "GdpBegqkTuYc"
   },
   "outputs": [],
   "source": [
    "18) Write a recursive function to calculate the sum of numbers from 0 to 10"
   ]
  },
  {
   "cell_type": "code",
   "execution_count": null,
   "metadata": {
    "id": "7M-0x4QlTuYc"
   },
   "outputs": [],
   "source": [
    "19)Generate a Python list of all the even numbers between 4 to 30"
   ]
  },
  {
   "cell_type": "code",
   "execution_count": null,
   "metadata": {
    "id": "K6NuLuEqTuYc"
   },
   "outputs": [],
   "source": [
    "20)Return the largest item from the given list"
   ]
  }
 ],
 "metadata": {
  "colab": {
   "authorship_tag": "ABX9TyNKkT2d6IQcUXWXOnPVUNcL",
   "collapsed_sections": [],
   "name": "Assignment for Python.ipynb",
   "provenance": []
  },
  "kernelspec": {
   "display_name": "base",
   "language": "python",
   "name": "python3"
  },
  "language_info": {
   "codemirror_mode": {
    "name": "ipython",
    "version": 3
   },
   "file_extension": ".py",
   "mimetype": "text/x-python",
   "name": "python",
   "nbconvert_exporter": "python",
   "pygments_lexer": "ipython3",
   "version": "3.11.7"
  }
 },
 "nbformat": 4,
 "nbformat_minor": 0
}
